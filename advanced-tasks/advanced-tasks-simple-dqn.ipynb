{
 "cells": [
  {
   "cell_type": "markdown",
   "id": "ecc84199",
   "metadata": {
    "papermill": {
     "duration": 0.006855,
     "end_time": "2024-04-20T20:48:11.531726",
     "exception": false,
     "start_time": "2024-04-20T20:48:11.524871",
     "status": "completed"
    },
    "tags": []
   },
   "source": [
    "# INM707: Advanced Tasks (Simple Deep Q-Network)\n",
    "\n",
    "We use PyTorch to construct a [Target Network + Experience Replay](https://www.nature.com/articles/nature14236) Deep Q-Network, Gymnasium to make the environment suitable for training, and [ViZDoom](https://vizdoom.farama.org/) which contains our 'Defend The Center' environment. MoviePy is optionally used to record the agent on an example episode after training, and sadly due to a problem within the MoviePy package itself, MoviePy needs to be installed before running the notebook (or the notebook kernel needs to be restarted after installing MoviePy - which is not possible when running a notebook in the background on Kaggle).\n",
    "\n",
    "The work presented here is part of the coursework of the INM707 module at City, University of London. The Github repository can be found [here](https://github.com/yasirbarlas/City-INM707)."
   ]
  },
  {
   "cell_type": "markdown",
   "id": "aaa4e9f1",
   "metadata": {
    "papermill": {
     "duration": 0.006102,
     "end_time": "2024-04-20T20:48:11.544384",
     "exception": false,
     "start_time": "2024-04-20T20:48:11.538282",
     "status": "completed"
    },
    "tags": []
   },
   "source": [
    "### Import Libraries\n",
    "\n",
    "We use PyTorch for creating our Deep Q-Network. Gymnasium and ViZDoom are used for the environment. Matplotlib is used for generating any plots."
   ]
  },
  {
   "cell_type": "code",
   "execution_count": 1,
   "id": "e788d343",
   "metadata": {
    "execution": {
     "iopub.execute_input": "2024-04-20T20:48:11.558949Z",
     "iopub.status.busy": "2024-04-20T20:48:11.558609Z",
     "iopub.status.idle": "2024-04-20T20:48:15.888637Z",
     "shell.execute_reply": "2024-04-20T20:48:15.887641Z"
    },
    "papermill": {
     "duration": 4.340813,
     "end_time": "2024-04-20T20:48:15.891421",
     "exception": false,
     "start_time": "2024-04-20T20:48:11.550608",
     "status": "completed"
    },
    "tags": []
   },
   "outputs": [],
   "source": [
    "# Import Relevant Libraries\n",
    "import operator\n",
    "from collections import deque\n",
    "from IPython.display import clear_output\n",
    "\n",
    "import os\n",
    "import pickle\n",
    "import numpy as np\n",
    "import random\n",
    "import math\n",
    "import matplotlib.pyplot as plt\n",
    "import cv2\n",
    "\n",
    "import torch\n",
    "import torch.nn as nn\n",
    "import torch.optim as optim\n",
    "import torch.nn.functional as F\n",
    "from torch.nn.utils import clip_grad_norm_"
   ]
  },
  {
   "cell_type": "code",
   "execution_count": 2,
   "id": "9c67801a",
   "metadata": {
    "execution": {
     "iopub.execute_input": "2024-04-20T20:48:15.910356Z",
     "iopub.status.busy": "2024-04-20T20:48:15.909928Z",
     "iopub.status.idle": "2024-04-20T20:48:49.800983Z",
     "shell.execute_reply": "2024-04-20T20:48:49.800170Z"
    },
    "papermill": {
     "duration": 33.90262,
     "end_time": "2024-04-20T20:48:49.803247",
     "exception": false,
     "start_time": "2024-04-20T20:48:15.900627",
     "status": "completed"
    },
    "tags": []
   },
   "outputs": [
    {
     "name": "stdout",
     "output_type": "stream",
     "text": [
      "Requirement already satisfied: gymnasium in /opt/conda/lib/python3.10/site-packages (0.29.0)\r\n",
      "Collecting vizdoom\r\n",
      "  Downloading vizdoom-1.2.3-cp310-cp310-manylinux_2_28_x86_64.whl.metadata (11 kB)\r\n",
      "Collecting moviepy\r\n",
      "  Downloading moviepy-1.0.3.tar.gz (388 kB)\r\n",
      "\u001b[2K     \u001b[90m━━━━━━━━━━━━━━━━━━━━━━━━━━━━━━━━━━━━━━━\u001b[0m \u001b[32m388.3/388.3 kB\u001b[0m \u001b[31m9.1 MB/s\u001b[0m eta \u001b[36m0:00:00\u001b[0m\r\n",
      "\u001b[?25h  Preparing metadata (setup.py) ... \u001b[?25l-\b \bdone\r\n",
      "\u001b[?25hRequirement already satisfied: numpy>=1.21.0 in /opt/conda/lib/python3.10/site-packages (from gymnasium) (1.26.4)\r\n",
      "Requirement already satisfied: cloudpickle>=1.2.0 in /opt/conda/lib/python3.10/site-packages (from gymnasium) (2.2.1)\r\n",
      "Requirement already satisfied: typing-extensions>=4.3.0 in /opt/conda/lib/python3.10/site-packages (from gymnasium) (4.9.0)\r\n",
      "Requirement already satisfied: farama-notifications>=0.0.1 in /opt/conda/lib/python3.10/site-packages (from gymnasium) (0.0.4)\r\n",
      "Collecting pygame>=2.1.3 (from vizdoom)\r\n",
      "  Downloading pygame-2.5.2-cp310-cp310-manylinux_2_17_x86_64.manylinux2014_x86_64.whl.metadata (13 kB)\r\n",
      "Collecting decorator<5.0,>=4.0.2 (from moviepy)\r\n",
      "  Downloading decorator-4.4.2-py2.py3-none-any.whl.metadata (4.2 kB)\r\n",
      "Requirement already satisfied: tqdm<5.0,>=4.11.2 in /opt/conda/lib/python3.10/site-packages (from moviepy) (4.66.1)\r\n",
      "Requirement already satisfied: requests<3.0,>=2.8.1 in /opt/conda/lib/python3.10/site-packages (from moviepy) (2.31.0)\r\n",
      "Collecting proglog<=1.0.0 (from moviepy)\r\n",
      "  Downloading proglog-0.1.10-py3-none-any.whl.metadata (639 bytes)\r\n",
      "Requirement already satisfied: imageio<3.0,>=2.5 in /opt/conda/lib/python3.10/site-packages (from moviepy) (2.33.1)\r\n",
      "Collecting imageio_ffmpeg>=0.2.0 (from moviepy)\r\n",
      "  Downloading imageio_ffmpeg-0.4.9-py3-none-manylinux2010_x86_64.whl.metadata (1.7 kB)\r\n",
      "Requirement already satisfied: pillow>=8.3.2 in /opt/conda/lib/python3.10/site-packages (from imageio<3.0,>=2.5->moviepy) (9.5.0)\r\n",
      "Requirement already satisfied: setuptools in /opt/conda/lib/python3.10/site-packages (from imageio_ffmpeg>=0.2.0->moviepy) (69.0.3)\r\n",
      "Requirement already satisfied: charset-normalizer<4,>=2 in /opt/conda/lib/python3.10/site-packages (from requests<3.0,>=2.8.1->moviepy) (3.3.2)\r\n",
      "Requirement already satisfied: idna<4,>=2.5 in /opt/conda/lib/python3.10/site-packages (from requests<3.0,>=2.8.1->moviepy) (3.6)\r\n",
      "Requirement already satisfied: urllib3<3,>=1.21.1 in /opt/conda/lib/python3.10/site-packages (from requests<3.0,>=2.8.1->moviepy) (1.26.18)\r\n",
      "Requirement already satisfied: certifi>=2017.4.17 in /opt/conda/lib/python3.10/site-packages (from requests<3.0,>=2.8.1->moviepy) (2024.2.2)\r\n",
      "Downloading vizdoom-1.2.3-cp310-cp310-manylinux_2_28_x86_64.whl (28.0 MB)\r\n",
      "\u001b[2K   \u001b[90m━━━━━━━━━━━━━━━━━━━━━━━━━━━━━━━━━━━━━━━━\u001b[0m \u001b[32m28.0/28.0 MB\u001b[0m \u001b[31m45.3 MB/s\u001b[0m eta \u001b[36m0:00:00\u001b[0m\r\n",
      "\u001b[?25hDownloading decorator-4.4.2-py2.py3-none-any.whl (9.2 kB)\r\n",
      "Downloading imageio_ffmpeg-0.4.9-py3-none-manylinux2010_x86_64.whl (26.9 MB)\r\n",
      "\u001b[2K   \u001b[90m━━━━━━━━━━━━━━━━━━━━━━━━━━━━━━━━━━━━━━━━\u001b[0m \u001b[32m26.9/26.9 MB\u001b[0m \u001b[31m68.4 MB/s\u001b[0m eta \u001b[36m0:00:00\u001b[0m\r\n",
      "\u001b[?25hDownloading proglog-0.1.10-py3-none-any.whl (6.1 kB)\r\n",
      "Downloading pygame-2.5.2-cp310-cp310-manylinux_2_17_x86_64.manylinux2014_x86_64.whl (14.0 MB)\r\n",
      "\u001b[2K   \u001b[90m━━━━━━━━━━━━━━━━━━━━━━━━━━━━━━━━━━━━━━━━\u001b[0m \u001b[32m14.0/14.0 MB\u001b[0m \u001b[31m88.2 MB/s\u001b[0m eta \u001b[36m0:00:00\u001b[0m\r\n",
      "\u001b[?25hBuilding wheels for collected packages: moviepy\r\n",
      "  Building wheel for moviepy (setup.py) ... \u001b[?25l-\b \b\\\b \bdone\r\n",
      "\u001b[?25h  Created wheel for moviepy: filename=moviepy-1.0.3-py3-none-any.whl size=110720 sha256=78865f789d6239a2de8a793cd1b492bff66bc8ea7bfef390f2f4609e131a10e0\r\n",
      "  Stored in directory: /root/.cache/pip/wheels/96/32/2d/e10123bd88fbfc02fed53cc18c80a171d3c87479ed845fa7c1\r\n",
      "Successfully built moviepy\r\n",
      "Installing collected packages: pygame, proglog, imageio_ffmpeg, decorator, vizdoom, moviepy\r\n",
      "  Attempting uninstall: decorator\r\n",
      "    Found existing installation: decorator 5.1.1\r\n",
      "    Uninstalling decorator-5.1.1:\r\n",
      "      Successfully uninstalled decorator-5.1.1\r\n",
      "Successfully installed decorator-4.4.2 imageio_ffmpeg-0.4.9 moviepy-1.0.3 proglog-0.1.10 pygame-2.5.2 vizdoom-1.2.3\r\n"
     ]
    }
   ],
   "source": [
    "!pip install gymnasium vizdoom moviepy\n",
    "\n",
    "import gymnasium as gym\n",
    "from gymnasium.wrappers import FrameStack, TransformReward, RecordVideo\n",
    "from vizdoom import gymnasium_wrapper"
   ]
  },
  {
   "cell_type": "markdown",
   "id": "be0e4d53",
   "metadata": {
    "papermill": {
     "duration": 0.009227,
     "end_time": "2024-04-20T20:48:49.822125",
     "exception": false,
     "start_time": "2024-04-20T20:48:49.812898",
     "status": "completed"
    },
    "tags": []
   },
   "source": [
    "### Set Random Seed and Default Device\n",
    "\n",
    "In order to reproduce the results every time we run the notebook, we set a random seed. We also try to use a GPU if available."
   ]
  },
  {
   "cell_type": "code",
   "execution_count": 3,
   "id": "1eb2e942",
   "metadata": {
    "execution": {
     "iopub.execute_input": "2024-04-20T20:48:49.842446Z",
     "iopub.status.busy": "2024-04-20T20:48:49.842137Z",
     "iopub.status.idle": "2024-04-20T20:48:49.902162Z",
     "shell.execute_reply": "2024-04-20T20:48:49.900999Z"
    },
    "papermill": {
     "duration": 0.072958,
     "end_time": "2024-04-20T20:48:49.904335",
     "exception": false,
     "start_time": "2024-04-20T20:48:49.831377",
     "status": "completed"
    },
    "tags": []
   },
   "outputs": [
    {
     "name": "stdout",
     "output_type": "stream",
     "text": [
      "cuda\n"
     ]
    }
   ],
   "source": [
    "# Set random seed for reproducibility\n",
    "randomer = 50\n",
    "random.seed(randomer)\n",
    "np.random.seed(randomer)\n",
    "torch.manual_seed(randomer)\n",
    "torch.cuda.manual_seed_all(randomer)\n",
    "\n",
    "# Default device\n",
    "device = torch.device(\"cuda\" if torch.cuda.is_available() else \"cpu\")\n",
    "\n",
    "print(device)"
   ]
  },
  {
   "cell_type": "markdown",
   "id": "e7262943",
   "metadata": {
    "papermill": {
     "duration": 0.00929,
     "end_time": "2024-04-20T20:48:49.923350",
     "exception": false,
     "start_time": "2024-04-20T20:48:49.914060",
     "status": "completed"
    },
    "tags": []
   },
   "source": [
    "### Replay Buffer\n",
    "\n",
    "A replay buffer stores and replays experiences gathered from interactions of our agent with the environment. It is a fundamental component of a Deep Q-Network, tackling the problem of autocorrelation which can lead to unstable training.\n",
    "\n",
    "The code is inspired by that found in the [Rainbow is all you need!](https://github.com/Curt-Park/rainbow-is-all-you-need) repository, with some changes."
   ]
  },
  {
   "cell_type": "code",
   "execution_count": 4,
   "id": "8cb12b21",
   "metadata": {
    "execution": {
     "iopub.execute_input": "2024-04-20T20:48:49.944377Z",
     "iopub.status.busy": "2024-04-20T20:48:49.944066Z",
     "iopub.status.idle": "2024-04-20T20:48:49.955188Z",
     "shell.execute_reply": "2024-04-20T20:48:49.954409Z"
    },
    "papermill": {
     "duration": 0.024273,
     "end_time": "2024-04-20T20:48:49.957017",
     "exception": false,
     "start_time": "2024-04-20T20:48:49.932744",
     "status": "completed"
    },
    "tags": []
   },
   "outputs": [],
   "source": [
    "## As found in https://github.com/Curt-Park/rainbow-is-all-you-need/blob/master/01.dqn.ipynb ##\n",
    "## With some changes ##\n",
    "\n",
    "class ReplayBuffer:\n",
    "    \"\"\"\n",
    "    A simple NumPy replay buffer.\n",
    "    \"\"\"\n",
    "    def __init__(self, obs_shape, size, batch_size = 32):\n",
    "        self.obs_buf = np.zeros([size] + list(obs_shape), dtype = np.float32)\n",
    "        self.next_obs_buf = np.zeros([size] + list(obs_shape), dtype = np.float32)\n",
    "        self.acts_buf = np.zeros([size], dtype = np.float32)\n",
    "        self.rews_buf = np.zeros([size], dtype = np.float32)\n",
    "        self.done_buf = np.zeros(size, dtype = np.float32)\n",
    "        self.max_size, self.batch_size = size, batch_size\n",
    "        self.ptr, self.size, = 0, 0\n",
    "\n",
    "    def store(self, obs, act, rew, next_obs, done):\n",
    "        self.obs_buf[self.ptr] = obs\n",
    "        self.next_obs_buf[self.ptr] = next_obs\n",
    "        self.acts_buf[self.ptr] = act\n",
    "        self.rews_buf[self.ptr] = rew\n",
    "        self.done_buf[self.ptr] = done\n",
    "        self.ptr = (self.ptr + 1) % self.max_size\n",
    "        self.size = min(self.size + 1, self.max_size)\n",
    "\n",
    "    def sample_batch(self):\n",
    "        idxs = np.random.choice(self.size, size = self.batch_size, replace = False)\n",
    "\n",
    "        return dict(obs = self.obs_buf[idxs], next_obs = self.next_obs_buf[idxs], acts = self.acts_buf[idxs], rews = self.rews_buf[idxs], done = self.done_buf[idxs], indices = idxs)\n",
    "    \n",
    "    def __len__(self):\n",
    "        return self.size"
   ]
  },
  {
   "cell_type": "markdown",
   "id": "1770b2fc",
   "metadata": {
    "papermill": {
     "duration": 0.009722,
     "end_time": "2024-04-20T20:48:49.976528",
     "exception": false,
     "start_time": "2024-04-20T20:48:49.966806",
     "status": "completed"
    },
    "tags": []
   },
   "source": [
    "### (Simple) Deep Q-Network\n",
    "\n",
    "The model is a convolutional neural network, allowing for pixel data to be input. Three convolutional layers, one linear layer, and a final output linear layer (which outputs the action) are used as found in the code. The model also outputs an action based on an input state, which relies on the $\\epsilon$-greedy policy.\n",
    "\n",
    "The code is inspired by that found in the [RL-Adventure](https://github.com/higgsfield/RL-Adventure/) repository, with some changes."
   ]
  },
  {
   "cell_type": "code",
   "execution_count": 5,
   "id": "55efbb03",
   "metadata": {
    "execution": {
     "iopub.execute_input": "2024-04-20T20:48:49.997108Z",
     "iopub.status.busy": "2024-04-20T20:48:49.996800Z",
     "iopub.status.idle": "2024-04-20T20:48:50.008643Z",
     "shell.execute_reply": "2024-04-20T20:48:50.007823Z"
    },
    "papermill": {
     "duration": 0.024522,
     "end_time": "2024-04-20T20:48:50.010586",
     "exception": false,
     "start_time": "2024-04-20T20:48:49.986064",
     "status": "completed"
    },
    "tags": []
   },
   "outputs": [],
   "source": [
    "## As found in https://github.com/higgsfield/RL-Adventure/blob/master/1.dqn.ipynb ##\n",
    "## With some changes ##\n",
    "\n",
    "class SimpleDQN(nn.Module):\n",
    "    def __init__(self, input_shape, num_actions):\n",
    "        super(SimpleDQN, self).__init__()\n",
    "        \n",
    "        self.input_shape = input_shape\n",
    "        self.num_actions = num_actions\n",
    "        \n",
    "        self.features = nn.Sequential(\n",
    "            nn.Conv2d(input_shape[0], 32, kernel_size = 8, stride = 4),\n",
    "            nn.ReLU(),\n",
    "            nn.Conv2d(32, 64, kernel_size = 4, stride = 2),\n",
    "            nn.ReLU(),\n",
    "            nn.Conv2d(64, 64, kernel_size = 3, stride = 1),\n",
    "            nn.ReLU()\n",
    "        ).to(device)\n",
    "        \n",
    "        self.fc = nn.Sequential(\n",
    "            nn.Linear(self.feature_size(), 512),\n",
    "            nn.ReLU(),\n",
    "            nn.Linear(512, self.num_actions)\n",
    "        ).to(device)\n",
    "        \n",
    "    def forward(self, x):\n",
    "        x = self.features(x)\n",
    "        x = x.view(x.size(0), -1)\n",
    "        x = self.fc(x)\n",
    "        return x\n",
    "    \n",
    "    def feature_size(self):\n",
    "        return self.features(torch.zeros(1, *self.input_shape, device = device)).view(1, -1).size(1)\n",
    "    \n",
    "    def act(self, state, epsilon):\n",
    "        if random.random() > epsilon:\n",
    "            if torch.is_tensor(state) == False:\n",
    "                state = np.array(np.float32(state))\n",
    "                state = torch.tensor(np.float32(state), dtype = torch.float, device = device).unsqueeze(0)\n",
    "            q_value = self.forward(state)\n",
    "            action = int(q_value.max(1)[1].data[0])\n",
    "        else:\n",
    "            action = random.randrange(self.num_actions)\n",
    "        return action"
   ]
  },
  {
   "cell_type": "markdown",
   "id": "9e5570b6",
   "metadata": {
    "papermill": {
     "duration": 0.009515,
     "end_time": "2024-04-20T20:48:50.030047",
     "exception": false,
     "start_time": "2024-04-20T20:48:50.020532",
     "status": "completed"
    },
    "tags": []
   },
   "source": [
    "### Environment Selection\n",
    "\n",
    "We define the actual environment to use, which in our case is the ViZDoom 'Defend The Center' environment. Frame skipping is also employed."
   ]
  },
  {
   "cell_type": "code",
   "execution_count": 6,
   "id": "a5b3a112",
   "metadata": {
    "execution": {
     "iopub.execute_input": "2024-04-20T20:48:50.050585Z",
     "iopub.status.busy": "2024-04-20T20:48:50.050295Z",
     "iopub.status.idle": "2024-04-20T20:48:50.777863Z",
     "shell.execute_reply": "2024-04-20T20:48:50.776922Z"
    },
    "papermill": {
     "duration": 0.74017,
     "end_time": "2024-04-20T20:48:50.779888",
     "exception": false,
     "start_time": "2024-04-20T20:48:50.039718",
     "status": "completed"
    },
    "tags": []
   },
   "outputs": [
    {
     "name": "stderr",
     "output_type": "stream",
     "text": [
      "/opt/conda/lib/python3.10/site-packages/vizdoom/gymnasium_wrapper/base_gymnasium_env.py:84: UserWarning: Detected screen format CRCGCB. Only RGB24 and GRAY8 are supported in the Gymnasium wrapper. Forcing RGB24.\n",
      "  warnings.warn(\n"
     ]
    },
    {
     "name": "stdout",
     "output_type": "stream",
     "text": [
      "Observation Space: Dict('gamevariables': Box(-3.4028235e+38, 3.4028235e+38, (2,), float32), 'screen': Box(0, 255, (240, 320, 3), uint8))\n",
      "Action Space: Discrete(4)\n"
     ]
    },
    {
     "data": {
      "text/plain": [
       "[50]"
      ]
     },
     "execution_count": 6,
     "metadata": {},
     "output_type": "execute_result"
    }
   ],
   "source": [
    "env_id = \"VizdoomDefendCenter-v0\"\n",
    "env = gym.make(env_id, render_mode = \"rgb_array\", frame_skip = 4)\n",
    "\n",
    "print(f\"Observation Space: {env.observation_space}\\nAction Space: {env.action_space}\")\n",
    "\n",
    "env.action_space.seed(randomer)"
   ]
  },
  {
   "cell_type": "markdown",
   "id": "9e159715",
   "metadata": {
    "papermill": {
     "duration": 0.010291,
     "end_time": "2024-04-20T20:48:50.800857",
     "exception": false,
     "start_time": "2024-04-20T20:48:50.790566",
     "status": "completed"
    },
    "tags": []
   },
   "source": [
    "### Environment Manipulation\n",
    "\n",
    "We need to preprocess our environment accordingly in order for it to pass through the Deep Q-Network. The observations from ViZDoom are provided as dictionaries, which Gymnasium does not accept, meaning that we need to translate these dictionaries into actual objects acceptable by Gymnasium. The dictionary consists of two items, namely 'gamevariables' and 'screen'. We need the 'screen' item, which contains the actual pixel space that a human would view if they were to play the ViZDoom game themselves. Grayscaling is employed on the frames, since colours do not provide important information. The reward can optionally be scaled by some parameter if desired, though this is commented out and not performed in our work. Framestacking is employed as the final step."
   ]
  },
  {
   "cell_type": "code",
   "execution_count": 7,
   "id": "ce9ff2b4",
   "metadata": {
    "execution": {
     "iopub.execute_input": "2024-04-20T20:48:50.822620Z",
     "iopub.status.busy": "2024-04-20T20:48:50.821775Z",
     "iopub.status.idle": "2024-04-20T20:48:50.840416Z",
     "shell.execute_reply": "2024-04-20T20:48:50.839428Z"
    },
    "papermill": {
     "duration": 0.031701,
     "end_time": "2024-04-20T20:48:50.842370",
     "exception": false,
     "start_time": "2024-04-20T20:48:50.810669",
     "status": "completed"
    },
    "tags": []
   },
   "outputs": [
    {
     "name": "stdout",
     "output_type": "stream",
     "text": [
      "Dict('gamevariables': Box(-3.4028235e+38, 3.4028235e+38, (2,), float32), 'screen': Box(0, 255, (240, 320, 3), uint8))\n",
      "Observation Space: Box(0, 255, (4, 84, 84), uint8)\n",
      "Action Space: Discrete(4)\n"
     ]
    }
   ],
   "source": [
    "class ObservationWrapper(gym.ObservationWrapper):\n",
    "    \"\"\"\n",
    "    ViZDoom environments return dictionaries as observations, containing\n",
    "    the main image as well other info.\n",
    "    The image is also too large for normal training.\n",
    "\n",
    "    This wrapper replaces the dictionary observation space with a simple\n",
    "    Box space (i.e., only the RGB image), and also resizes the image to a\n",
    "    smaller size.\n",
    "\n",
    "    NOTE: Ideally, you should set the image size to smaller in the scenario files\n",
    "          for faster running of ViZDoom. This can really impact performance,\n",
    "          and this code is pretty slow because of this!\n",
    "    \"\"\"\n",
    "    def __init__(self, env, shape = (84, 84)):\n",
    "        super().__init__(env)\n",
    "        self.image_shape = shape\n",
    "        self.image_shape_reverse = shape[::-1]\n",
    "\n",
    "        # Create new observation space with the new shape\n",
    "        print(env.observation_space)\n",
    "        num_channels = env.observation_space[\"screen\"].shape[-1]\n",
    "        new_shape = (shape[0], shape[1], num_channels)\n",
    "        self.observation_space = gym.spaces.Box(\n",
    "            0, 255, shape = new_shape, dtype = np.uint8\n",
    "        )\n",
    "\n",
    "    def observation(self, observation):\n",
    "        observation = cv2.resize(observation[\"screen\"], self.image_shape_reverse)\n",
    "        return observation\n",
    "\n",
    "class GrayScaleObservation(gym.ObservationWrapper):\n",
    "    \"\"\"\n",
    "    Convert the image observation from RGB to grayscale.\n",
    "    Example:\n",
    "        >>> env = gym.make('CarRacing-v1')\n",
    "        >>> env.observation_space\n",
    "        Box(0, 255, (96, 96, 3), uint8)\n",
    "        >>> env = GrayScaleObservation(gym.make('CarRacing-v1'))\n",
    "        >>> env.observation_space\n",
    "        Box(0, 255, (96, 96), uint8)\n",
    "        >>> env = GrayScaleObservation(gym.make('CarRacing-v1'), keep_dim=True)\n",
    "        >>> env.observation_space\n",
    "        Box(0, 255, (96, 96, 1), uint8)\n",
    "    \"\"\"\n",
    "    def __init__(self, env: gym.Env, keep_dim: bool = False):\n",
    "        \"\"\"\n",
    "        Convert the image observation from RGB to grayscale.\n",
    "        Args:\n",
    "            env (Env): The environment to apply the wrapper\n",
    "            keep_dim (bool): If `True`, a singleton dimension will be added, i.e. observations are of the shape AxBx1.\n",
    "                Otherwise, they are of shape AxB.\n",
    "        \"\"\"\n",
    "        super().__init__(env)\n",
    "        self.keep_dim = keep_dim\n",
    "\n",
    "        assert (\n",
    "            isinstance(self.observation_space, gym.spaces.Box)\n",
    "            and len(self.observation_space.shape) == 3\n",
    "            and self.observation_space.shape[-1] == 3\n",
    "        )\n",
    "\n",
    "        obs_shape = self.observation_space.shape[:2]\n",
    "        if self.keep_dim:\n",
    "            self.observation_space = gym.spaces.Box(\n",
    "                low = 0, high = 255, shape = (obs_shape[0], obs_shape[1], 1), dtype = np.uint8\n",
    "            )\n",
    "        else:\n",
    "            self.observation_space = gym.spaces.Box(\n",
    "                low = 0, high = 255, shape = obs_shape, dtype = np.uint8\n",
    "            )\n",
    "\n",
    "    def observation(self, observation):\n",
    "        \"\"\"\n",
    "        Converts the colour observation to grayscale.\n",
    "        Args:\n",
    "            observation: Color observations\n",
    "        Returns:\n",
    "            Grayscale observations\n",
    "        \"\"\"\n",
    "\n",
    "        observation = cv2.cvtColor(observation, cv2.COLOR_RGB2GRAY)\n",
    "        if self.keep_dim:\n",
    "            observation = np.expand_dims(observation, -1)\n",
    "        return observation\n",
    "\n",
    "# Apply Wrappers to environment (working for ViZDoom environments only, replace with standard Gymnasium ones for other environments)\n",
    "env = ObservationWrapper(env)\n",
    "env = GrayScaleObservation(env)\n",
    "# Transforms reward by scalar, can be commented out if not needed\n",
    "#env = TransformReward(env, lambda r: r * 0.01)\n",
    "\n",
    "# Frame stacking\n",
    "if gym.__version__ < \"0.26\":\n",
    "    env = FrameStack(env, num_stack = 4, new_step_api = True)\n",
    "else:\n",
    "    env = FrameStack(env, num_stack = 4)\n",
    "\n",
    "print(f\"Observation Space: {env.observation_space}\\nAction Space: {env.action_space}\")"
   ]
  },
  {
   "cell_type": "markdown",
   "id": "b4f85fe5",
   "metadata": {
    "papermill": {
     "duration": 0.010043,
     "end_time": "2024-04-20T20:48:50.862574",
     "exception": false,
     "start_time": "2024-04-20T20:48:50.852531",
     "status": "completed"
    },
    "tags": []
   },
   "source": [
    "### Adjust Learning Rate and Moving Average Plotting\n",
    "\n",
    "While not an important step, we can scale the learning rate during training as a method to improve the gradient descent algorithm, by making smaller steps to the global minimum. The moving average is a sensible way to visualise the performance of our agent during training, which essentially calculates the moving average reward between a window of a certain number of episodes."
   ]
  },
  {
   "cell_type": "code",
   "execution_count": 8,
   "id": "6f45481f",
   "metadata": {
    "execution": {
     "iopub.execute_input": "2024-04-20T20:48:50.885033Z",
     "iopub.status.busy": "2024-04-20T20:48:50.884684Z",
     "iopub.status.idle": "2024-04-20T20:48:50.890937Z",
     "shell.execute_reply": "2024-04-20T20:48:50.890150Z"
    },
    "papermill": {
     "duration": 0.019574,
     "end_time": "2024-04-20T20:48:50.892928",
     "exception": false,
     "start_time": "2024-04-20T20:48:50.873354",
     "status": "completed"
    },
    "tags": []
   },
   "outputs": [],
   "source": [
    "# Scale learning rate\n",
    "def adjust_learning_rate(optimizer, shrink_factor):\n",
    "    \"\"\"\n",
    "    Shrinks learning rate by a specified factor\n",
    "\n",
    "    optimizer: optimizer whose learning rate must be shrunk\n",
    "    shrink_factor: factor in interval (0, 1) to multiply learning rate with\n",
    "    \"\"\"\n",
    "\n",
    "    print(\"\\nDECAYING learning rate\")\n",
    "    for param_group in optimizer.param_groups:\n",
    "        param_group[\"lr\"] = param_group[\"lr\"] * shrink_factor\n",
    "    print(\"The new learning rate is %f\\n\" % (optimizer.param_groups[0][\"lr\"]))\n",
    "\n",
    "# Calculate moving average (for plotting)\n",
    "def moving_average(data, window_size = 100):\n",
    "    return np.convolve(a = data, v = np.ones(window_size), mode = \"valid\") / window_size"
   ]
  },
  {
   "cell_type": "markdown",
   "id": "724123c0",
   "metadata": {
    "papermill": {
     "duration": 0.010216,
     "end_time": "2024-04-20T20:48:50.913391",
     "exception": false,
     "start_time": "2024-04-20T20:48:50.903175",
     "status": "completed"
    },
    "tags": []
   },
   "source": [
    "### Model and Training Hyperparameters\n",
    "\n",
    "The model and training hyperparameters are defined here, including the number of frames to train for, the replay buffer size, any policy related parameters, and the choice of optimiser."
   ]
  },
  {
   "cell_type": "code",
   "execution_count": 9,
   "id": "fc1b80d1",
   "metadata": {
    "execution": {
     "iopub.execute_input": "2024-04-20T20:48:50.935203Z",
     "iopub.status.busy": "2024-04-20T20:48:50.934875Z",
     "iopub.status.idle": "2024-04-20T20:48:50.939874Z",
     "shell.execute_reply": "2024-04-20T20:48:50.939106Z"
    },
    "papermill": {
     "duration": 0.017927,
     "end_time": "2024-04-20T20:48:50.941727",
     "exception": false,
     "start_time": "2024-04-20T20:48:50.923800",
     "status": "completed"
    },
    "tags": []
   },
   "outputs": [],
   "source": [
    "num_frames = 1000000\n",
    "memory_size = 100000\n",
    "batch_size = 32\n",
    "target_update = 8000\n",
    "seed = 50\n",
    "\n",
    "## Epsilon-Greedy Policy ## \n",
    "max_epsilon = 1.0\n",
    "min_epsilon = 0.01\n",
    "epsilon_decay = 0.00001\n",
    "\n",
    "## Discount Factor ##\n",
    "gamma = 0.99\n",
    "\n",
    "## Optimizer ##\n",
    "learning_rate = 0.00001\n",
    "optimizer = \"adam\""
   ]
  },
  {
   "cell_type": "markdown",
   "id": "4c54df91",
   "metadata": {
    "papermill": {
     "duration": 0.010265,
     "end_time": "2024-04-20T20:48:50.962260",
     "exception": false,
     "start_time": "2024-04-20T20:48:50.951995",
     "status": "completed"
    },
    "tags": []
   },
   "source": [
    "### (Simple) DQN Agent Class\n",
    "\n",
    "We create a class for our agent, which will train the agent using the defined hyperparameters. The class comes with .train() and .test() functions, which train the agent for a set number of frames and test the agent on a single episode respectively.\n",
    "\n",
    "The code is inspired by that found in the [Rainbow is all you need!](https://github.com/Curt-Park/rainbow-is-all-you-need) repository, with some changes."
   ]
  },
  {
   "cell_type": "code",
   "execution_count": 10,
   "id": "f87291f2",
   "metadata": {
    "execution": {
     "iopub.execute_input": "2024-04-20T20:48:50.984637Z",
     "iopub.status.busy": "2024-04-20T20:48:50.984336Z",
     "iopub.status.idle": "2024-04-20T20:48:51.026139Z",
     "shell.execute_reply": "2024-04-20T20:48:51.025201Z"
    },
    "papermill": {
     "duration": 0.055714,
     "end_time": "2024-04-20T20:48:51.028201",
     "exception": false,
     "start_time": "2024-04-20T20:48:50.972487",
     "status": "completed"
    },
    "tags": []
   },
   "outputs": [],
   "source": [
    "## As found in https://github.com/Curt-Park/rainbow-is-all-you-need/blob/master/01.dqn.ipynb ##\n",
    "## With some changes ##\n",
    "\n",
    "class SimpleAgent:\n",
    "    \"\"\"\n",
    "    Simple DQN Agent\n",
    "    \"\"\"\n",
    "    def __init__(self, env, memory_size, batch_size, target_update, seed, gamma = 0.99, max_epsilon = 1.0, min_epsilon = 0.01, epsilon_decay = 0.00001, learning_rate = 0.0000625, optimizer = \"adam\"):\n",
    "        \"\"\"\n",
    "        Initialise the DQN agent with the provided parameters.\n",
    "\n",
    "        Args:\n",
    "            env (gymnasium.Env): Gymnasium environment\n",
    "            memory_size (int): Size of the replay memory\n",
    "            batch_size (int): Batch size for sampling from the replay memory\n",
    "            target_update (int): Frequency (in steps) at which to update the target network\n",
    "            seed (int): Seed for random number generation\n",
    "            gamma (float): Discount factor (default: 0.99)\n",
    "            max_epsilon (float): Initial epsilon value for epsilon-greedy exploration (default: 1.0)\n",
    "            min_epsilon (float): Minimum epsilon value (default: 0.01)\n",
    "            epsilon_decay (float): Decay rate for epsilon (default: 0.00001)\n",
    "            learning_rate (float): Learning rate for the optimizer (default: 0.0000625)\n",
    "            optimizer (str): Name of the optimizer to use (\"adam\", \"rmsprop\", or \"sgd\") (default: \"adam\")\n",
    "        \"\"\"\n",
    "        obs_dim = env.observation_space.shape\n",
    "        action_dim = env.action_space.n\n",
    "\n",
    "        self.env = env\n",
    "        self.batch_size = batch_size\n",
    "        self.target_update = target_update\n",
    "        self.seed = seed\n",
    "        self.gamma = gamma\n",
    "        self.epsilon = max_epsilon\n",
    "        self.max_epsilon = max_epsilon\n",
    "        self.min_epsilon = min_epsilon\n",
    "        self.epsilon_decay = epsilon_decay\n",
    "        \n",
    "        self.device = torch.device(\"cuda\" if torch.cuda.is_available() else \"cpu\")\n",
    "        print(self.device)\n",
    "        \n",
    "        self.memory = ReplayBuffer(obs_dim, memory_size, batch_size)\n",
    "        \n",
    "        # Action space seed\n",
    "        self.env.action_space.seed(seed)\n",
    "\n",
    "        # Neural network models setup\n",
    "        self.dqn = SimpleDQN(obs_dim, action_dim).to(self.device)\n",
    "        self.dqn_target = SimpleDQN(obs_dim, action_dim).to(self.device)\n",
    "        self.dqn_target.load_state_dict(self.dqn.state_dict())\n",
    "        self.dqn_target.eval()\n",
    "        \n",
    "        # Optimizer setup\n",
    "        optimizer.lower()\n",
    "        if optimizer == \"adam\":\n",
    "            self.optimizer = optim.Adam(self.dqn.parameters(), lr = learning_rate)\n",
    "        if optimizer == \"rmsprop\":\n",
    "            self.optimizer = optim.RMSprop(self.dqn.parameters(), lr = learning_rate)\n",
    "        if optimizer == \"sgd\":\n",
    "            self.optimizer = optim.SGD(self.dqn.parameters(), lr = learning_rate)\n",
    "\n",
    "        # Transition to store in memory\n",
    "        self.transition = list()\n",
    "        \n",
    "        # Mode: train / test\n",
    "        self.is_test = False\n",
    "\n",
    "    def select_action(self, state):\n",
    "        \"\"\"\n",
    "        Select an action from the input state.\n",
    "        \"\"\"\n",
    "        selected_action = self.dqn.act(state, self.epsilon)\n",
    "        \n",
    "        if not self.is_test:\n",
    "            self.transition = [state, selected_action]\n",
    "        \n",
    "        return selected_action\n",
    "\n",
    "    def step(self, action):\n",
    "        \"\"\"\n",
    "        Take an action and return the response of the environment.\n",
    "        \"\"\"\n",
    "        next_state, reward, terminated, truncated, _ = self.env.step(action)\n",
    "        done = terminated or truncated\n",
    "\n",
    "        if not self.is_test:\n",
    "            self.transition += [reward, next_state, done]\n",
    "            self.memory.store(*self.transition)\n",
    "    \n",
    "        return next_state, reward, done\n",
    "\n",
    "    def update_model(self):\n",
    "        \"\"\"\n",
    "        Update the model by gradient descent.\n",
    "        \"\"\"\n",
    "        samples = self.memory.sample_batch()\n",
    "\n",
    "        loss = self._compute_dqn_loss(samples)\n",
    "\n",
    "        self.optimizer.zero_grad()\n",
    "        loss.backward()\n",
    "        self.optimizer.step()\n",
    "\n",
    "        return loss.item()\n",
    "        \n",
    "    def train(self, num_frames, plotting_interval = 1000):\n",
    "        \"\"\"\n",
    "        Train the agent.\n",
    "        \"\"\"\n",
    "        self.is_test = False\n",
    "        \n",
    "        state, _ = self.env.reset(seed = self.seed)\n",
    "        update_cnt = 0\n",
    "        epsilons = []\n",
    "        losses = []\n",
    "        scores = []\n",
    "        score = 0\n",
    "\n",
    "        for frame_idx in range(1, num_frames + 1):\n",
    "            # At the halfway point, reduce learning rate by a tenth\n",
    "            if frame_idx == int(num_frames // 2):\n",
    "                adjust_learning_rate(self.optimizer, 0.1)\n",
    "\n",
    "            action = self.select_action(state)\n",
    "            next_state, reward, done = self.step(action)\n",
    "\n",
    "            state = next_state\n",
    "            score += reward\n",
    "\n",
    "            # Exponentially decrease epsilon\n",
    "            self.epsilon = self.min_epsilon + (self.max_epsilon - self.min_epsilon) * np.exp(- self.epsilon_decay * frame_idx)\n",
    "            epsilons.append(self.epsilon)\n",
    "\n",
    "            # If episode ends\n",
    "            if done:\n",
    "                state, _ = self.env.reset(seed = self.seed)\n",
    "                scores.append(score)\n",
    "                score = 0\n",
    "\n",
    "            # If training is ready\n",
    "            if len(self.memory) >= self.batch_size:\n",
    "                loss = self.update_model()\n",
    "                losses.append(loss)\n",
    "                update_cnt += 1\n",
    "\n",
    "                # If hard update is needed\n",
    "                if update_cnt % self.target_update == 0:\n",
    "                    self._target_hard_update()\n",
    "\n",
    "            # Plot and save results, and save models\n",
    "            if frame_idx % plotting_interval == 0:\n",
    "                self._plot(scores, losses, epsilons)\n",
    "                self._save(scores, losses, epsilons)\n",
    "\n",
    "                print(f\"Frame: {frame_idx}, Mean of last 10 rewards: {np.mean(scores[-10:])}\")\n",
    "\n",
    "                # Create checkpoint folder\n",
    "                if not os.path.exists(\"checkpoints\"):\n",
    "                    os.makedirs(\"checkpoints\")\n",
    "\n",
    "                # Save the model checkpoint\n",
    "                checkpoint_name = f\"checkpoint_simple_dqn_latest.pth.tar\"\n",
    "                checkpoint_path = os.path.join(\"checkpoints\", checkpoint_name)\n",
    "                torch.save({\"current_model\": self.dqn.state_dict(), \"target_model\": self.dqn_target.state_dict(), \"optimizer\": self.optimizer.state_dict(), \"losses\": losses, \"rewards\": scores, \"frame\": frame_idx}, checkpoint_path)\n",
    "\n",
    "        print(\"Training successfully completed.\")\n",
    "\n",
    "        self.env.close()\n",
    "\n",
    "    def test(self, video_folder = \"dqn_agent_video\"):\n",
    "        \"\"\"\n",
    "        Test the agent.\n",
    "        \"\"\"\n",
    "        self.is_test = True\n",
    "        old_epsilon = self.epsilon\n",
    "        self.epsilon = 0\n",
    "        \n",
    "        # Create checkpoint folder\n",
    "        if not os.path.exists(video_folder):\n",
    "            os.makedirs(video_folder)\n",
    "        \n",
    "        # For recording a video of agent\n",
    "        naive_env = self.env\n",
    "        self.env = RecordVideo(self.env, video_folder = video_folder)\n",
    "        \n",
    "        state, _ = self.env.reset(seed = self.seed)\n",
    "        done = False\n",
    "        score = 0\n",
    "        \n",
    "        while not done:\n",
    "            action = self.select_action(state)\n",
    "            next_state, reward, done = self.step(action)\n",
    "\n",
    "            state = next_state\n",
    "            score += reward\n",
    "        \n",
    "        print(\"Score: \", score)\n",
    "        self.env.close()\n",
    "        \n",
    "        # Reset\n",
    "        self.env = naive_env\n",
    "        self.epsilon = old_epsilon\n",
    "\n",
    "    def _compute_dqn_loss(self, samples):\n",
    "        \"\"\"\n",
    "        Return DQN loss.\n",
    "        \"\"\"\n",
    "        state = torch.tensor(samples[\"obs\"], dtype = torch.float, device = self.device).to(self.device)\n",
    "        next_state = torch.tensor(samples[\"next_obs\"], dtype = torch.float, device = self.device).to(self.device)\n",
    "        action = torch.tensor(samples[\"acts\"].reshape(-1, 1), dtype = torch.long, device = self.device).to(self.device)\n",
    "        reward = torch.tensor(samples[\"rews\"].reshape(-1, 1), dtype = torch.float, device = self.device).to(self.device)\n",
    "        done = torch.tensor(samples[\"done\"].reshape(-1, 1), dtype = torch.float, device = self.device).to(self.device)\n",
    "\n",
    "        curr_q_value = self.dqn(state).gather(1, action)\n",
    "        next_q_value = self.dqn_target(next_state).max(dim = 1, keepdim = True)[0].detach()\n",
    "        mask = 1 - done\n",
    "        target = (reward + self.gamma * next_q_value * mask).to(self.device)\n",
    "\n",
    "        # Calculate DQN loss\n",
    "        loss = F.smooth_l1_loss(curr_q_value, target)\n",
    "\n",
    "        return loss\n",
    "\n",
    "    def _target_hard_update(self):\n",
    "        \"\"\"\n",
    "        Hard update: target <- local.\n",
    "        \"\"\"\n",
    "        self.dqn_target.load_state_dict(self.dqn.state_dict())\n",
    "\n",
    "    def _save(self, rewards, losses, epsilons):\n",
    "        \"\"\"\n",
    "        Save training results to a pickle file.\n",
    "        \"\"\"\n",
    "        # Save results to a file\n",
    "        with open(\"simple-dqn-results.pkl\", \"wb\") as f:\n",
    "            pickle.dump(rewards, f)\n",
    "            pickle.dump(losses, f)\n",
    "            pickle.dump(epsilons, f)\n",
    "\n",
    "    def _plot(self, rewards, losses, epsilons, moving_average_window = 100):\n",
    "        \"\"\"\n",
    "        Plot training curves.\n",
    "        \"\"\"\n",
    "        plt.figure(figsize = (40, 6))\n",
    "        clear_output(True)\n",
    "        # Combined plot of rewards, moving average, loss, and epsilons\n",
    "        plt.subplot(131)\n",
    "        plt.title(\"DQN Rewards Per Episode\")\n",
    "        plt.plot(rewards, label = \"Reward\")\n",
    "        if len(rewards) >= moving_average_window:\n",
    "            plt.plot(moving_average(rewards, moving_average_window), label = \"Moving Average\", color = \"red\")\n",
    "        plt.xlabel(\"Episode\")\n",
    "        plt.ylabel(\"Reward\")\n",
    "        plt.legend()\n",
    "        \n",
    "        plt.subplot(132)\n",
    "        plt.title(\"DQN Loss and Epsilon Per Frame\")\n",
    "        plt.plot(losses, label = \"DQN Loss\", color = \"tab:blue\")\n",
    "        plt.xlabel(\"Frame\")\n",
    "        plt.ylabel(\"Loss\", color = \"tab:blue\")\n",
    "        plt.tick_params(axis = \"y\", labelcolor = \"tab:blue\")\n",
    "        plt.legend(loc = \"upper left\")\n",
    "        \n",
    "        ax2 = plt.gca().twinx()\n",
    "        ax2.plot(epsilons, label = \"Epsilon\", color = \"tab:red\")\n",
    "        ax2.set_ylabel(\"Epsilon\", color = \"tab:red\")\n",
    "        ax2.tick_params(axis = \"y\", labelcolor = \"tab:red\")\n",
    "        ax2.legend(loc = \"upper right\")\n",
    "        \n",
    "        plt.savefig(\"simple_dqn_plot.pdf\")\n",
    "        plt.show()\n",
    "\n",
    "    def _load_checkpoint(self, checkpoint_path, include_optimiser = True):\n",
    "        \"\"\"\n",
    "        Load the models from a checkpoint.\n",
    "        \"\"\"\n",
    "        model = torch.load(checkpoint_path, map_location = self.device)\n",
    "        self.dqn.load_state_dict(model[\"current_model\"])\n",
    "        self.dqn_target.load_state_dict(model[\"target_model\"])\n",
    "        \n",
    "        if include_optimiser == True:\n",
    "            self.optimizer.load_state_dict(model[\"optimizer\"])"
   ]
  },
  {
   "cell_type": "markdown",
   "id": "d53775db",
   "metadata": {
    "papermill": {
     "duration": 0.010193,
     "end_time": "2024-04-20T20:48:51.048976",
     "exception": false,
     "start_time": "2024-04-20T20:48:51.038783",
     "status": "completed"
    },
    "tags": []
   },
   "source": [
    "### Creating DQN Agent Object\n",
    "\n",
    "We create an object for the agent to later refer to. This allows us to train and test the agent as desired."
   ]
  },
  {
   "cell_type": "code",
   "execution_count": 11,
   "id": "efdd0eb6",
   "metadata": {
    "execution": {
     "iopub.execute_input": "2024-04-20T20:48:51.071141Z",
     "iopub.status.busy": "2024-04-20T20:48:51.070623Z",
     "iopub.status.idle": "2024-04-20T20:48:54.328914Z",
     "shell.execute_reply": "2024-04-20T20:48:54.327911Z"
    },
    "papermill": {
     "duration": 3.272415,
     "end_time": "2024-04-20T20:48:54.331787",
     "exception": false,
     "start_time": "2024-04-20T20:48:51.059372",
     "status": "completed"
    },
    "tags": []
   },
   "outputs": [
    {
     "name": "stdout",
     "output_type": "stream",
     "text": [
      "cuda\n"
     ]
    }
   ],
   "source": [
    "agent = SimpleAgent(env, memory_size, batch_size, target_update, seed, gamma, max_epsilon, min_epsilon, epsilon_decay, learning_rate, optimizer)"
   ]
  },
  {
   "cell_type": "markdown",
   "id": "ef4035e0",
   "metadata": {
    "papermill": {
     "duration": 0.010745,
     "end_time": "2024-04-20T20:48:54.356487",
     "exception": false,
     "start_time": "2024-04-20T20:48:54.345742",
     "status": "completed"
    },
    "tags": []
   },
   "source": [
    "### Train Agent\n",
    "\n",
    "We train the agent using our previously defined hyperparameters and obtain live plots of the training performance, which display the reward per episode, the loss per frame, and the $\\epsilon$ value from the $\\epsilon$-greedy policy per frame."
   ]
  },
  {
   "cell_type": "code",
   "execution_count": 12,
   "id": "f4f9529d",
   "metadata": {
    "execution": {
     "iopub.execute_input": "2024-04-20T20:48:54.381244Z",
     "iopub.status.busy": "2024-04-20T20:48:54.380528Z",
     "iopub.status.idle": "2024-04-20T23:50:12.732797Z",
     "shell.execute_reply": "2024-04-20T23:50:12.731482Z"
    },
    "papermill": {
     "duration": 10878.367904,
     "end_time": "2024-04-20T23:50:12.734888",
     "exception": false,
     "start_time": "2024-04-20T20:48:54.366984",
     "status": "completed"
    },
    "tags": []
   },
   "outputs": [
    {
     "data": {
      "image/png": "[encoded data removed]",
      "text/plain": [
       "<Figure size 4000x600 with 3 Axes>"
      ]
     },
     "metadata": {},
     "output_type": "display_data"
    },
    {
     "name": "stdout",
     "output_type": "stream",
     "text": [
      "Frame: 1000000, Mean of last 10 rewards: 12.4\n",
      "Training successfully completed.\n",
      "CPU times: user 2h 37min 3s, sys: 3min 13s, total: 2h 40min 16s\n",
      "Wall time: 3h 1min 18s\n"
     ]
    }
   ],
   "source": [
    "%%time\n",
    "\n",
    "#agent._load_checkpoint(\"checkpoints/checkpoint_simple_dqn_latest.pth.tar\", include_optimiser = True)\n",
    "agent.train(num_frames)"
   ]
  },
  {
   "cell_type": "markdown",
   "id": "7f709a7f",
   "metadata": {
    "papermill": {
     "duration": 0.012729,
     "end_time": "2024-04-20T23:50:12.760447",
     "exception": false,
     "start_time": "2024-04-20T23:50:12.747718",
     "status": "completed"
    },
    "tags": []
   },
   "source": [
    "### Test Agent\n",
    "\n",
    "We test the agent and receive a video of the agent playing on the ViZDoom environment. As mentioned at the beginning of the notebook, MoviePy causes an error as it needs to be installed before running the notebook (or the notebook kernel needs to be restarted after installing MoviePy. We obtain this error here as Kaggle cannot handle this, though it should be easy to avoid this on a home computer."
   ]
  },
  {
   "cell_type": "code",
   "execution_count": 13,
   "id": "cf8749a4",
   "metadata": {
    "execution": {
     "iopub.execute_input": "2024-04-20T23:50:12.788908Z",
     "iopub.status.busy": "2024-04-20T23:50:12.788413Z",
     "iopub.status.idle": "2024-04-20T23:50:14.361004Z",
     "shell.execute_reply": "2024-04-20T23:50:14.360100Z"
    },
    "papermill": {
     "duration": 1.589081,
     "end_time": "2024-04-20T23:50:14.362982",
     "exception": false,
     "start_time": "2024-04-20T23:50:12.773901",
     "status": "completed"
    },
    "tags": []
   },
   "outputs": [
    {
     "name": "stderr",
     "output_type": "stream",
     "text": [
      "/opt/conda/lib/python3.10/site-packages/gymnasium/wrappers/record_video.py:94: UserWarning: \u001b[33mWARN: Overwriting existing videos at /kaggle/working/simple_agent_video folder (try specifying a different `video_folder` for the `RecordVideo` wrapper if this is not desired)\u001b[0m\n",
      "  logger.warn(\n",
      "/opt/conda/lib/python3.10/site-packages/gymnasium/core.py:297: UserWarning: \u001b[33mWARN: env.is_vector_env to get variables from other wrappers is deprecated and will be removed in v1.0, to get this variable you can do `env.unwrapped.is_vector_env` for environment variables or `env.get_attr('is_vector_env')` that will search the reminding wrappers.\u001b[0m\n",
      "  logger.warn(\n"
     ]
    },
    {
     "name": "stdout",
     "output_type": "stream",
     "text": [
      "Moviepy - Building video /kaggle/working/simple_agent_video/rl-video-episode-0.mp4.\n",
      "Moviepy - Writing video /kaggle/working/simple_agent_video/rl-video-episode-0.mp4\n",
      "\n"
     ]
    },
    {
     "ename": "TypeError",
     "evalue": "must be real number, not NoneType",
     "output_type": "error",
     "traceback": [
      "\u001b[0;31m---------------------------------------------------------------------------\u001b[0m",
      "\u001b[0;31mTypeError\u001b[0m                                 Traceback (most recent call last)",
      "File \u001b[0;32m<timed eval>:1\u001b[0m\n",
      "Cell \u001b[0;32mIn[10], line 192\u001b[0m, in \u001b[0;36mSimpleAgent.test\u001b[0;34m(self, video_folder)\u001b[0m\n\u001b[1;32m    190\u001b[0m \u001b[38;5;28;01mwhile\u001b[39;00m \u001b[38;5;129;01mnot\u001b[39;00m done:\n\u001b[1;32m    191\u001b[0m     action \u001b[38;5;241m=\u001b[39m \u001b[38;5;28mself\u001b[39m\u001b[38;5;241m.\u001b[39mselect_action(state)\n\u001b[0;32m--> 192\u001b[0m     next_state, reward, done \u001b[38;5;241m=\u001b[39m \u001b[38;5;28;43mself\u001b[39;49m\u001b[38;5;241;43m.\u001b[39;49m\u001b[43mstep\u001b[49m\u001b[43m(\u001b[49m\u001b[43maction\u001b[49m\u001b[43m)\u001b[49m\n\u001b[1;32m    194\u001b[0m     state \u001b[38;5;241m=\u001b[39m next_state\n\u001b[1;32m    195\u001b[0m     score \u001b[38;5;241m+\u001b[39m\u001b[38;5;241m=\u001b[39m reward\n",
      "Cell \u001b[0;32mIn[10], line 91\u001b[0m, in \u001b[0;36mSimpleAgent.step\u001b[0;34m(self, action)\u001b[0m\n\u001b[1;32m     89\u001b[0m \u001b[38;5;28;01mdef\u001b[39;00m \u001b[38;5;21mstep\u001b[39m(\u001b[38;5;28mself\u001b[39m, action):\n\u001b[1;32m     90\u001b[0m \u001b[38;5;250m    \u001b[39m\u001b[38;5;124;03m\"\"\"Take an action and return the response of the env.\"\"\"\u001b[39;00m\n\u001b[0;32m---> 91\u001b[0m     next_state, reward, terminated, truncated, _ \u001b[38;5;241m=\u001b[39m \u001b[38;5;28;43mself\u001b[39;49m\u001b[38;5;241;43m.\u001b[39;49m\u001b[43menv\u001b[49m\u001b[38;5;241;43m.\u001b[39;49m\u001b[43mstep\u001b[49m\u001b[43m(\u001b[49m\u001b[43maction\u001b[49m\u001b[43m)\u001b[49m\n\u001b[1;32m     92\u001b[0m     done \u001b[38;5;241m=\u001b[39m terminated \u001b[38;5;129;01mor\u001b[39;00m truncated\n\u001b[1;32m     94\u001b[0m     \u001b[38;5;28;01mif\u001b[39;00m \u001b[38;5;129;01mnot\u001b[39;00m \u001b[38;5;28mself\u001b[39m\u001b[38;5;241m.\u001b[39mis_test:\n",
      "File \u001b[0;32m/opt/conda/lib/python3.10/site-packages/gymnasium/wrappers/record_video.py:191\u001b[0m, in \u001b[0;36mRecordVideo.step\u001b[0;34m(self, action)\u001b[0m\n\u001b[1;32m    189\u001b[0m \u001b[38;5;28;01mif\u001b[39;00m \u001b[38;5;129;01mnot\u001b[39;00m \u001b[38;5;28mself\u001b[39m\u001b[38;5;241m.\u001b[39mis_vector_env:\n\u001b[1;32m    190\u001b[0m     \u001b[38;5;28;01mif\u001b[39;00m terminateds \u001b[38;5;129;01mor\u001b[39;00m truncateds:\n\u001b[0;32m--> 191\u001b[0m         \u001b[38;5;28;43mself\u001b[39;49m\u001b[38;5;241;43m.\u001b[39;49m\u001b[43mclose_video_recorder\u001b[49m\u001b[43m(\u001b[49m\u001b[43m)\u001b[49m\n\u001b[1;32m    192\u001b[0m \u001b[38;5;28;01melif\u001b[39;00m terminateds[\u001b[38;5;241m0\u001b[39m] \u001b[38;5;129;01mor\u001b[39;00m truncateds[\u001b[38;5;241m0\u001b[39m]:\n\u001b[1;32m    193\u001b[0m     \u001b[38;5;28mself\u001b[39m\u001b[38;5;241m.\u001b[39mclose_video_recorder()\n",
      "File \u001b[0;32m/opt/conda/lib/python3.10/site-packages/gymnasium/wrappers/record_video.py:204\u001b[0m, in \u001b[0;36mRecordVideo.close_video_recorder\u001b[0;34m(self)\u001b[0m\n\u001b[1;32m    202\u001b[0m \u001b[38;5;28;01mif\u001b[39;00m \u001b[38;5;28mself\u001b[39m\u001b[38;5;241m.\u001b[39mrecording:\n\u001b[1;32m    203\u001b[0m     \u001b[38;5;28;01massert\u001b[39;00m \u001b[38;5;28mself\u001b[39m\u001b[38;5;241m.\u001b[39mvideo_recorder \u001b[38;5;129;01mis\u001b[39;00m \u001b[38;5;129;01mnot\u001b[39;00m \u001b[38;5;28;01mNone\u001b[39;00m\n\u001b[0;32m--> 204\u001b[0m     \u001b[38;5;28;43mself\u001b[39;49m\u001b[38;5;241;43m.\u001b[39;49m\u001b[43mvideo_recorder\u001b[49m\u001b[38;5;241;43m.\u001b[39;49m\u001b[43mclose\u001b[49m\u001b[43m(\u001b[49m\u001b[43m)\u001b[49m\n\u001b[1;32m    205\u001b[0m \u001b[38;5;28mself\u001b[39m\u001b[38;5;241m.\u001b[39mrecording \u001b[38;5;241m=\u001b[39m \u001b[38;5;28;01mFalse\u001b[39;00m\n\u001b[1;32m    206\u001b[0m \u001b[38;5;28mself\u001b[39m\u001b[38;5;241m.\u001b[39mrecorded_frames \u001b[38;5;241m=\u001b[39m \u001b[38;5;241m1\u001b[39m\n",
      "File \u001b[0;32m/opt/conda/lib/python3.10/site-packages/gymnasium/wrappers/monitoring/video_recorder.py:157\u001b[0m, in \u001b[0;36mVideoRecorder.close\u001b[0;34m(self)\u001b[0m\n\u001b[1;32m    155\u001b[0m     clip \u001b[38;5;241m=\u001b[39m ImageSequenceClip(\u001b[38;5;28mself\u001b[39m\u001b[38;5;241m.\u001b[39mrecorded_frames, fps\u001b[38;5;241m=\u001b[39m\u001b[38;5;28mself\u001b[39m\u001b[38;5;241m.\u001b[39mframes_per_sec)\n\u001b[1;32m    156\u001b[0m     moviepy_logger \u001b[38;5;241m=\u001b[39m \u001b[38;5;28;01mNone\u001b[39;00m \u001b[38;5;28;01mif\u001b[39;00m \u001b[38;5;28mself\u001b[39m\u001b[38;5;241m.\u001b[39mdisable_logger \u001b[38;5;28;01melse\u001b[39;00m \u001b[38;5;124m\"\u001b[39m\u001b[38;5;124mbar\u001b[39m\u001b[38;5;124m\"\u001b[39m\n\u001b[0;32m--> 157\u001b[0m     \u001b[43mclip\u001b[49m\u001b[38;5;241;43m.\u001b[39;49m\u001b[43mwrite_videofile\u001b[49m\u001b[43m(\u001b[49m\u001b[38;5;28;43mself\u001b[39;49m\u001b[38;5;241;43m.\u001b[39;49m\u001b[43mpath\u001b[49m\u001b[43m,\u001b[49m\u001b[43m \u001b[49m\u001b[43mlogger\u001b[49m\u001b[38;5;241;43m=\u001b[39;49m\u001b[43mmoviepy_logger\u001b[49m\u001b[43m)\u001b[49m\n\u001b[1;32m    158\u001b[0m \u001b[38;5;28;01melse\u001b[39;00m:\n\u001b[1;32m    159\u001b[0m     \u001b[38;5;66;03m# No frames captured. Set metadata.\u001b[39;00m\n\u001b[1;32m    160\u001b[0m     \u001b[38;5;28;01mif\u001b[39;00m \u001b[38;5;28mself\u001b[39m\u001b[38;5;241m.\u001b[39mmetadata \u001b[38;5;129;01mis\u001b[39;00m \u001b[38;5;28;01mNone\u001b[39;00m:\n",
      "File \u001b[0;32m/opt/conda/lib/python3.10/site-packages/decorator.py:232\u001b[0m, in \u001b[0;36mfun\u001b[0;34m(*args, **kw)\u001b[0m\n\u001b[1;32m    230\u001b[0m evaldict \u001b[38;5;241m=\u001b[39m \u001b[38;5;28mdict\u001b[39m(_call_\u001b[38;5;241m=\u001b[39mcaller, _func_\u001b[38;5;241m=\u001b[39mfunc)\n\u001b[1;32m    231\u001b[0m es \u001b[38;5;241m=\u001b[39m \u001b[38;5;124m'\u001b[39m\u001b[38;5;124m'\u001b[39m\n\u001b[0;32m--> 232\u001b[0m \u001b[38;5;28;01mfor\u001b[39;00m i, extra \u001b[38;5;129;01min\u001b[39;00m \u001b[38;5;28menumerate\u001b[39m(extras):\n\u001b[1;32m    233\u001b[0m     ex \u001b[38;5;241m=\u001b[39m \u001b[38;5;124m'\u001b[39m\u001b[38;5;124m_e\u001b[39m\u001b[38;5;132;01m%d\u001b[39;00m\u001b[38;5;124m_\u001b[39m\u001b[38;5;124m'\u001b[39m \u001b[38;5;241m%\u001b[39m i\n\u001b[1;32m    234\u001b[0m     evaldict[ex] \u001b[38;5;241m=\u001b[39m extra\n",
      "File \u001b[0;32m/opt/conda/lib/python3.10/site-packages/moviepy/decorators.py:54\u001b[0m, in \u001b[0;36mrequires_duration\u001b[0;34m(f, clip, *a, **k)\u001b[0m\n\u001b[1;32m     52\u001b[0m     \u001b[38;5;28;01mraise\u001b[39;00m \u001b[38;5;167;01mValueError\u001b[39;00m(\u001b[38;5;124m\"\u001b[39m\u001b[38;5;124mAttribute \u001b[39m\u001b[38;5;124m'\u001b[39m\u001b[38;5;124mduration\u001b[39m\u001b[38;5;124m'\u001b[39m\u001b[38;5;124m not set\u001b[39m\u001b[38;5;124m\"\u001b[39m)\n\u001b[1;32m     53\u001b[0m \u001b[38;5;28;01melse\u001b[39;00m:\n\u001b[0;32m---> 54\u001b[0m     \u001b[38;5;28;01mreturn\u001b[39;00m \u001b[43mf\u001b[49m\u001b[43m(\u001b[49m\u001b[43mclip\u001b[49m\u001b[43m,\u001b[49m\u001b[43m \u001b[49m\u001b[38;5;241;43m*\u001b[39;49m\u001b[43ma\u001b[49m\u001b[43m,\u001b[49m\u001b[43m \u001b[49m\u001b[38;5;241;43m*\u001b[39;49m\u001b[38;5;241;43m*\u001b[39;49m\u001b[43mk\u001b[49m\u001b[43m)\u001b[49m\n",
      "File \u001b[0;32m/opt/conda/lib/python3.10/site-packages/decorator.py:232\u001b[0m, in \u001b[0;36mfun\u001b[0;34m(*args, **kw)\u001b[0m\n\u001b[1;32m    230\u001b[0m evaldict \u001b[38;5;241m=\u001b[39m \u001b[38;5;28mdict\u001b[39m(_call_\u001b[38;5;241m=\u001b[39mcaller, _func_\u001b[38;5;241m=\u001b[39mfunc)\n\u001b[1;32m    231\u001b[0m es \u001b[38;5;241m=\u001b[39m \u001b[38;5;124m'\u001b[39m\u001b[38;5;124m'\u001b[39m\n\u001b[0;32m--> 232\u001b[0m \u001b[38;5;28;01mfor\u001b[39;00m i, extra \u001b[38;5;129;01min\u001b[39;00m \u001b[38;5;28menumerate\u001b[39m(extras):\n\u001b[1;32m    233\u001b[0m     ex \u001b[38;5;241m=\u001b[39m \u001b[38;5;124m'\u001b[39m\u001b[38;5;124m_e\u001b[39m\u001b[38;5;132;01m%d\u001b[39;00m\u001b[38;5;124m_\u001b[39m\u001b[38;5;124m'\u001b[39m \u001b[38;5;241m%\u001b[39m i\n\u001b[1;32m    234\u001b[0m     evaldict[ex] \u001b[38;5;241m=\u001b[39m extra\n",
      "File \u001b[0;32m/opt/conda/lib/python3.10/site-packages/moviepy/decorators.py:135\u001b[0m, in \u001b[0;36muse_clip_fps_by_default\u001b[0;34m(f, clip, *a, **k)\u001b[0m\n\u001b[1;32m    130\u001b[0m new_a \u001b[38;5;241m=\u001b[39m [fun(arg) \u001b[38;5;28;01mif\u001b[39;00m (name\u001b[38;5;241m==\u001b[39m\u001b[38;5;124m'\u001b[39m\u001b[38;5;124mfps\u001b[39m\u001b[38;5;124m'\u001b[39m) \u001b[38;5;28;01melse\u001b[39;00m arg\n\u001b[1;32m    131\u001b[0m          \u001b[38;5;28;01mfor\u001b[39;00m (arg, name) \u001b[38;5;129;01min\u001b[39;00m \u001b[38;5;28mzip\u001b[39m(a, names)]\n\u001b[1;32m    132\u001b[0m new_kw \u001b[38;5;241m=\u001b[39m {k: fun(v) \u001b[38;5;28;01mif\u001b[39;00m k\u001b[38;5;241m==\u001b[39m\u001b[38;5;124m'\u001b[39m\u001b[38;5;124mfps\u001b[39m\u001b[38;5;124m'\u001b[39m \u001b[38;5;28;01melse\u001b[39;00m v\n\u001b[1;32m    133\u001b[0m          \u001b[38;5;28;01mfor\u001b[39;00m (k,v) \u001b[38;5;129;01min\u001b[39;00m k\u001b[38;5;241m.\u001b[39mitems()}\n\u001b[0;32m--> 135\u001b[0m \u001b[38;5;28;01mreturn\u001b[39;00m \u001b[43mf\u001b[49m\u001b[43m(\u001b[49m\u001b[43mclip\u001b[49m\u001b[43m,\u001b[49m\u001b[43m \u001b[49m\u001b[38;5;241;43m*\u001b[39;49m\u001b[43mnew_a\u001b[49m\u001b[43m,\u001b[49m\u001b[43m \u001b[49m\u001b[38;5;241;43m*\u001b[39;49m\u001b[38;5;241;43m*\u001b[39;49m\u001b[43mnew_kw\u001b[49m\u001b[43m)\u001b[49m\n",
      "File \u001b[0;32m/opt/conda/lib/python3.10/site-packages/decorator.py:232\u001b[0m, in \u001b[0;36mfun\u001b[0;34m(*args, **kw)\u001b[0m\n\u001b[1;32m    230\u001b[0m evaldict \u001b[38;5;241m=\u001b[39m \u001b[38;5;28mdict\u001b[39m(_call_\u001b[38;5;241m=\u001b[39mcaller, _func_\u001b[38;5;241m=\u001b[39mfunc)\n\u001b[1;32m    231\u001b[0m es \u001b[38;5;241m=\u001b[39m \u001b[38;5;124m'\u001b[39m\u001b[38;5;124m'\u001b[39m\n\u001b[0;32m--> 232\u001b[0m \u001b[38;5;28;01mfor\u001b[39;00m i, extra \u001b[38;5;129;01min\u001b[39;00m \u001b[38;5;28menumerate\u001b[39m(extras):\n\u001b[1;32m    233\u001b[0m     ex \u001b[38;5;241m=\u001b[39m \u001b[38;5;124m'\u001b[39m\u001b[38;5;124m_e\u001b[39m\u001b[38;5;132;01m%d\u001b[39;00m\u001b[38;5;124m_\u001b[39m\u001b[38;5;124m'\u001b[39m \u001b[38;5;241m%\u001b[39m i\n\u001b[1;32m    234\u001b[0m     evaldict[ex] \u001b[38;5;241m=\u001b[39m extra\n",
      "File \u001b[0;32m/opt/conda/lib/python3.10/site-packages/moviepy/decorators.py:22\u001b[0m, in \u001b[0;36mconvert_masks_to_RGB\u001b[0;34m(f, clip, *a, **k)\u001b[0m\n\u001b[1;32m     20\u001b[0m \u001b[38;5;28;01mif\u001b[39;00m clip\u001b[38;5;241m.\u001b[39mismask:\n\u001b[1;32m     21\u001b[0m     clip \u001b[38;5;241m=\u001b[39m clip\u001b[38;5;241m.\u001b[39mto_RGB()\n\u001b[0;32m---> 22\u001b[0m \u001b[38;5;28;01mreturn\u001b[39;00m \u001b[43mf\u001b[49m\u001b[43m(\u001b[49m\u001b[43mclip\u001b[49m\u001b[43m,\u001b[49m\u001b[43m \u001b[49m\u001b[38;5;241;43m*\u001b[39;49m\u001b[43ma\u001b[49m\u001b[43m,\u001b[49m\u001b[43m \u001b[49m\u001b[38;5;241;43m*\u001b[39;49m\u001b[38;5;241;43m*\u001b[39;49m\u001b[43mk\u001b[49m\u001b[43m)\u001b[49m\n",
      "File \u001b[0;32m/opt/conda/lib/python3.10/site-packages/moviepy/video/VideoClip.py:300\u001b[0m, in \u001b[0;36mVideoClip.write_videofile\u001b[0;34m(self, filename, fps, codec, bitrate, audio, audio_fps, preset, audio_nbytes, audio_codec, audio_bitrate, audio_bufsize, temp_audiofile, rewrite_audio, remove_temp, write_logfile, verbose, threads, ffmpeg_params, logger)\u001b[0m\n\u001b[1;32m    292\u001b[0m \u001b[38;5;28;01mif\u001b[39;00m make_audio:\n\u001b[1;32m    293\u001b[0m     \u001b[38;5;28mself\u001b[39m\u001b[38;5;241m.\u001b[39maudio\u001b[38;5;241m.\u001b[39mwrite_audiofile(audiofile, audio_fps,\n\u001b[1;32m    294\u001b[0m                                audio_nbytes, audio_bufsize,\n\u001b[1;32m    295\u001b[0m                                audio_codec, bitrate\u001b[38;5;241m=\u001b[39maudio_bitrate,\n\u001b[1;32m    296\u001b[0m                                write_logfile\u001b[38;5;241m=\u001b[39mwrite_logfile,\n\u001b[1;32m    297\u001b[0m                                verbose\u001b[38;5;241m=\u001b[39mverbose,\n\u001b[1;32m    298\u001b[0m                                logger\u001b[38;5;241m=\u001b[39mlogger)\n\u001b[0;32m--> 300\u001b[0m \u001b[43mffmpeg_write_video\u001b[49m\u001b[43m(\u001b[49m\u001b[38;5;28;43mself\u001b[39;49m\u001b[43m,\u001b[49m\u001b[43m \u001b[49m\u001b[43mfilename\u001b[49m\u001b[43m,\u001b[49m\u001b[43m \u001b[49m\u001b[43mfps\u001b[49m\u001b[43m,\u001b[49m\u001b[43m \u001b[49m\u001b[43mcodec\u001b[49m\u001b[43m,\u001b[49m\n\u001b[1;32m    301\u001b[0m \u001b[43m                   \u001b[49m\u001b[43mbitrate\u001b[49m\u001b[38;5;241;43m=\u001b[39;49m\u001b[43mbitrate\u001b[49m\u001b[43m,\u001b[49m\n\u001b[1;32m    302\u001b[0m \u001b[43m                   \u001b[49m\u001b[43mpreset\u001b[49m\u001b[38;5;241;43m=\u001b[39;49m\u001b[43mpreset\u001b[49m\u001b[43m,\u001b[49m\n\u001b[1;32m    303\u001b[0m \u001b[43m                   \u001b[49m\u001b[43mwrite_logfile\u001b[49m\u001b[38;5;241;43m=\u001b[39;49m\u001b[43mwrite_logfile\u001b[49m\u001b[43m,\u001b[49m\n\u001b[1;32m    304\u001b[0m \u001b[43m                   \u001b[49m\u001b[43maudiofile\u001b[49m\u001b[38;5;241;43m=\u001b[39;49m\u001b[43maudiofile\u001b[49m\u001b[43m,\u001b[49m\n\u001b[1;32m    305\u001b[0m \u001b[43m                   \u001b[49m\u001b[43mverbose\u001b[49m\u001b[38;5;241;43m=\u001b[39;49m\u001b[43mverbose\u001b[49m\u001b[43m,\u001b[49m\u001b[43m \u001b[49m\u001b[43mthreads\u001b[49m\u001b[38;5;241;43m=\u001b[39;49m\u001b[43mthreads\u001b[49m\u001b[43m,\u001b[49m\n\u001b[1;32m    306\u001b[0m \u001b[43m                   \u001b[49m\u001b[43mffmpeg_params\u001b[49m\u001b[38;5;241;43m=\u001b[39;49m\u001b[43mffmpeg_params\u001b[49m\u001b[43m,\u001b[49m\n\u001b[1;32m    307\u001b[0m \u001b[43m                   \u001b[49m\u001b[43mlogger\u001b[49m\u001b[38;5;241;43m=\u001b[39;49m\u001b[43mlogger\u001b[49m\u001b[43m)\u001b[49m\n\u001b[1;32m    309\u001b[0m \u001b[38;5;28;01mif\u001b[39;00m remove_temp \u001b[38;5;129;01mand\u001b[39;00m make_audio:\n\u001b[1;32m    310\u001b[0m     \u001b[38;5;28;01mif\u001b[39;00m os\u001b[38;5;241m.\u001b[39mpath\u001b[38;5;241m.\u001b[39mexists(audiofile):\n",
      "File \u001b[0;32m/opt/conda/lib/python3.10/site-packages/moviepy/video/io/ffmpeg_writer.py:213\u001b[0m, in \u001b[0;36mffmpeg_write_video\u001b[0;34m(clip, filename, fps, codec, bitrate, preset, withmask, write_logfile, audiofile, verbose, threads, ffmpeg_params, logger)\u001b[0m\n\u001b[1;32m    211\u001b[0m     logfile \u001b[38;5;241m=\u001b[39m \u001b[38;5;28;01mNone\u001b[39;00m\n\u001b[1;32m    212\u001b[0m logger(message\u001b[38;5;241m=\u001b[39m\u001b[38;5;124m'\u001b[39m\u001b[38;5;124mMoviepy - Writing video \u001b[39m\u001b[38;5;132;01m%s\u001b[39;00m\u001b[38;5;130;01m\\n\u001b[39;00m\u001b[38;5;124m'\u001b[39m \u001b[38;5;241m%\u001b[39m filename)\n\u001b[0;32m--> 213\u001b[0m \u001b[38;5;28;01mwith\u001b[39;00m \u001b[43mFFMPEG_VideoWriter\u001b[49m\u001b[43m(\u001b[49m\u001b[43mfilename\u001b[49m\u001b[43m,\u001b[49m\u001b[43m \u001b[49m\u001b[43mclip\u001b[49m\u001b[38;5;241;43m.\u001b[39;49m\u001b[43msize\u001b[49m\u001b[43m,\u001b[49m\u001b[43m \u001b[49m\u001b[43mfps\u001b[49m\u001b[43m,\u001b[49m\u001b[43m \u001b[49m\u001b[43mcodec\u001b[49m\u001b[43m \u001b[49m\u001b[38;5;241;43m=\u001b[39;49m\u001b[43m \u001b[49m\u001b[43mcodec\u001b[49m\u001b[43m,\u001b[49m\n\u001b[1;32m    214\u001b[0m \u001b[43m                            \u001b[49m\u001b[43mpreset\u001b[49m\u001b[38;5;241;43m=\u001b[39;49m\u001b[43mpreset\u001b[49m\u001b[43m,\u001b[49m\u001b[43m \u001b[49m\u001b[43mbitrate\u001b[49m\u001b[38;5;241;43m=\u001b[39;49m\u001b[43mbitrate\u001b[49m\u001b[43m,\u001b[49m\u001b[43m \u001b[49m\u001b[43mlogfile\u001b[49m\u001b[38;5;241;43m=\u001b[39;49m\u001b[43mlogfile\u001b[49m\u001b[43m,\u001b[49m\n\u001b[1;32m    215\u001b[0m \u001b[43m                            \u001b[49m\u001b[43maudiofile\u001b[49m\u001b[38;5;241;43m=\u001b[39;49m\u001b[43maudiofile\u001b[49m\u001b[43m,\u001b[49m\u001b[43m \u001b[49m\u001b[43mthreads\u001b[49m\u001b[38;5;241;43m=\u001b[39;49m\u001b[43mthreads\u001b[49m\u001b[43m,\u001b[49m\n\u001b[1;32m    216\u001b[0m \u001b[43m                            \u001b[49m\u001b[43mffmpeg_params\u001b[49m\u001b[38;5;241;43m=\u001b[39;49m\u001b[43mffmpeg_params\u001b[49m\u001b[43m)\u001b[49m \u001b[38;5;28;01mas\u001b[39;00m writer:\n\u001b[1;32m    218\u001b[0m     nframes \u001b[38;5;241m=\u001b[39m \u001b[38;5;28mint\u001b[39m(clip\u001b[38;5;241m.\u001b[39mduration\u001b[38;5;241m*\u001b[39mfps)\n\u001b[1;32m    220\u001b[0m     \u001b[38;5;28;01mfor\u001b[39;00m t,frame \u001b[38;5;129;01min\u001b[39;00m clip\u001b[38;5;241m.\u001b[39miter_frames(logger\u001b[38;5;241m=\u001b[39mlogger, with_times\u001b[38;5;241m=\u001b[39m\u001b[38;5;28;01mTrue\u001b[39;00m,\n\u001b[1;32m    221\u001b[0m                                     fps\u001b[38;5;241m=\u001b[39mfps, dtype\u001b[38;5;241m=\u001b[39m\u001b[38;5;124m\"\u001b[39m\u001b[38;5;124muint8\u001b[39m\u001b[38;5;124m\"\u001b[39m):\n",
      "File \u001b[0;32m/opt/conda/lib/python3.10/site-packages/moviepy/video/io/ffmpeg_writer.py:88\u001b[0m, in \u001b[0;36mFFMPEG_VideoWriter.__init__\u001b[0;34m(self, filename, size, fps, codec, audiofile, preset, bitrate, withmask, logfile, threads, ffmpeg_params)\u001b[0m\n\u001b[1;32m     77\u001b[0m \u001b[38;5;28mself\u001b[39m\u001b[38;5;241m.\u001b[39mext \u001b[38;5;241m=\u001b[39m \u001b[38;5;28mself\u001b[39m\u001b[38;5;241m.\u001b[39mfilename\u001b[38;5;241m.\u001b[39msplit(\u001b[38;5;124m\"\u001b[39m\u001b[38;5;124m.\u001b[39m\u001b[38;5;124m\"\u001b[39m)[\u001b[38;5;241m-\u001b[39m\u001b[38;5;241m1\u001b[39m]\n\u001b[1;32m     79\u001b[0m \u001b[38;5;66;03m# order is important\u001b[39;00m\n\u001b[1;32m     80\u001b[0m cmd \u001b[38;5;241m=\u001b[39m [\n\u001b[1;32m     81\u001b[0m     get_setting(\u001b[38;5;124m\"\u001b[39m\u001b[38;5;124mFFMPEG_BINARY\u001b[39m\u001b[38;5;124m\"\u001b[39m),\n\u001b[1;32m     82\u001b[0m     \u001b[38;5;124m'\u001b[39m\u001b[38;5;124m-y\u001b[39m\u001b[38;5;124m'\u001b[39m,\n\u001b[1;32m     83\u001b[0m     \u001b[38;5;124m'\u001b[39m\u001b[38;5;124m-loglevel\u001b[39m\u001b[38;5;124m'\u001b[39m, \u001b[38;5;124m'\u001b[39m\u001b[38;5;124merror\u001b[39m\u001b[38;5;124m'\u001b[39m \u001b[38;5;28;01mif\u001b[39;00m logfile \u001b[38;5;241m==\u001b[39m sp\u001b[38;5;241m.\u001b[39mPIPE \u001b[38;5;28;01melse\u001b[39;00m \u001b[38;5;124m'\u001b[39m\u001b[38;5;124minfo\u001b[39m\u001b[38;5;124m'\u001b[39m,\n\u001b[1;32m     84\u001b[0m     \u001b[38;5;124m'\u001b[39m\u001b[38;5;124m-f\u001b[39m\u001b[38;5;124m'\u001b[39m, \u001b[38;5;124m'\u001b[39m\u001b[38;5;124mrawvideo\u001b[39m\u001b[38;5;124m'\u001b[39m,\n\u001b[1;32m     85\u001b[0m     \u001b[38;5;124m'\u001b[39m\u001b[38;5;124m-vcodec\u001b[39m\u001b[38;5;124m'\u001b[39m, \u001b[38;5;124m'\u001b[39m\u001b[38;5;124mrawvideo\u001b[39m\u001b[38;5;124m'\u001b[39m,\n\u001b[1;32m     86\u001b[0m     \u001b[38;5;124m'\u001b[39m\u001b[38;5;124m-s\u001b[39m\u001b[38;5;124m'\u001b[39m, \u001b[38;5;124m'\u001b[39m\u001b[38;5;132;01m%d\u001b[39;00m\u001b[38;5;124mx\u001b[39m\u001b[38;5;132;01m%d\u001b[39;00m\u001b[38;5;124m'\u001b[39m \u001b[38;5;241m%\u001b[39m (size[\u001b[38;5;241m0\u001b[39m], size[\u001b[38;5;241m1\u001b[39m]),\n\u001b[1;32m     87\u001b[0m     \u001b[38;5;124m'\u001b[39m\u001b[38;5;124m-pix_fmt\u001b[39m\u001b[38;5;124m'\u001b[39m, \u001b[38;5;124m'\u001b[39m\u001b[38;5;124mrgba\u001b[39m\u001b[38;5;124m'\u001b[39m \u001b[38;5;28;01mif\u001b[39;00m withmask \u001b[38;5;28;01melse\u001b[39;00m \u001b[38;5;124m'\u001b[39m\u001b[38;5;124mrgb24\u001b[39m\u001b[38;5;124m'\u001b[39m,\n\u001b[0;32m---> 88\u001b[0m     \u001b[38;5;124m'\u001b[39m\u001b[38;5;124m-r\u001b[39m\u001b[38;5;124m'\u001b[39m, \u001b[38;5;124;43m'\u001b[39;49m\u001b[38;5;132;43;01m%.02f\u001b[39;49;00m\u001b[38;5;124;43m'\u001b[39;49m\u001b[43m \u001b[49m\u001b[38;5;241;43m%\u001b[39;49m\u001b[43m \u001b[49m\u001b[43mfps\u001b[49m,\n\u001b[1;32m     89\u001b[0m     \u001b[38;5;124m'\u001b[39m\u001b[38;5;124m-an\u001b[39m\u001b[38;5;124m'\u001b[39m, \u001b[38;5;124m'\u001b[39m\u001b[38;5;124m-i\u001b[39m\u001b[38;5;124m'\u001b[39m, \u001b[38;5;124m'\u001b[39m\u001b[38;5;124m-\u001b[39m\u001b[38;5;124m'\u001b[39m\n\u001b[1;32m     90\u001b[0m ]\n\u001b[1;32m     91\u001b[0m \u001b[38;5;28;01mif\u001b[39;00m audiofile \u001b[38;5;129;01mis\u001b[39;00m \u001b[38;5;129;01mnot\u001b[39;00m \u001b[38;5;28;01mNone\u001b[39;00m:\n\u001b[1;32m     92\u001b[0m     cmd\u001b[38;5;241m.\u001b[39mextend([\n\u001b[1;32m     93\u001b[0m         \u001b[38;5;124m'\u001b[39m\u001b[38;5;124m-i\u001b[39m\u001b[38;5;124m'\u001b[39m, audiofile,\n\u001b[1;32m     94\u001b[0m         \u001b[38;5;124m'\u001b[39m\u001b[38;5;124m-acodec\u001b[39m\u001b[38;5;124m'\u001b[39m, \u001b[38;5;124m'\u001b[39m\u001b[38;5;124mcopy\u001b[39m\u001b[38;5;124m'\u001b[39m\n\u001b[1;32m     95\u001b[0m     ])\n",
      "\u001b[0;31mTypeError\u001b[0m: must be real number, not NoneType"
     ]
    }
   ],
   "source": [
    "%%time\n",
    "\n",
    "agent.test(video_folder = \"simple_agent_video\")"
   ]
  },
  {
   "cell_type": "code",
   "execution_count": null,
   "id": "87da2f26",
   "metadata": {
    "papermill": {
     "duration": 0.012811,
     "end_time": "2024-04-20T23:50:14.389133",
     "exception": false,
     "start_time": "2024-04-20T23:50:14.376322",
     "status": "completed"
    },
    "tags": []
   },
   "outputs": [],
   "source": []
  }
 ],
 "metadata": {
  "kaggle": {
   "accelerator": "gpu",
   "dataSources": [],
   "isGpuEnabled": true,
   "isInternetEnabled": true,
   "language": "python",
   "sourceType": "notebook"
  },
  "kernelspec": {
   "display_name": "Python 3 (ipykernel)",
   "language": "python",
   "name": "python3"
  },
  "language_info": {
   "codemirror_mode": {
    "name": "ipython",
    "version": 3
   },
   "file_extension": ".py",
   "mimetype": "text/x-python",
   "name": "python",
   "nbconvert_exporter": "python",
   "pygments_lexer": "ipython3",
   "version": "3.11.7"
  },
  "papermill": {
   "default_parameters": {},
   "duration": 10933.10226,
   "end_time": "2024-04-20T23:50:21.663544",
   "environment_variables": {},
   "exception": null,
   "input_path": "__notebook__.ipynb",
   "output_path": "__notebook__.ipynb",
   "parameters": {},
   "start_time": "2024-04-20T20:48:08.561284",
   "version": "2.5.0"
  }
 },
 "nbformat": 4,
 "nbformat_minor": 5
}
