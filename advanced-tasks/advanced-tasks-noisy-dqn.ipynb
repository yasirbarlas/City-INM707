{
 "cells": [
  {
   "cell_type": "markdown",
   "id": "dee8fa12",
   "metadata": {
    "papermill": {
     "duration": 0.007876,
     "end_time": "2024-04-21T01:12:25.472813",
     "exception": false,
     "start_time": "2024-04-21T01:12:25.464937",
     "status": "completed"
    },
    "tags": []
   },
   "source": [
    "# INM707: Advanced Tasks (Noisy Network Deep Q-Network)\n",
    "\n",
    "We use PyTorch to construct a [Noisy Network DQN](https://arxiv.org/abs/1706.10295) Deep Q-Network, Gymnasium to make the environment suitable for training, and [ViZDoom](https://vizdoom.farama.org/) which contains our 'Defend The Center' environment. MoviePy is optionally used to record the agent on an example episode after training, and sadly due to a problem within the MoviePy package itself, MoviePy needs to be installed before running the notebook (or the notebook kernel needs to be restarted after installing MoviePy - which is not possible when running a notebook in the background on Kaggle).\n",
    "\n",
    "Since we are making sequential improvements to the previous architecture, in this notebook we are working with a Target Network + Prioritised Experience Replay + Noisy Network Deep Q-Network.\n",
    "\n",
    "The work presented here is part of the coursework of the INM707 module at City, University of London. The Github repository can be found [here](https://github.com/yasirbarlas/City-INM707)."
   ]
  },
  {
   "cell_type": "markdown",
   "id": "9333fe03",
   "metadata": {
    "papermill": {
     "duration": 0.007014,
     "end_time": "2024-04-21T01:12:25.487186",
     "exception": false,
     "start_time": "2024-04-21T01:12:25.480172",
     "status": "completed"
    },
    "tags": []
   },
   "source": [
    "### Import Libraries\n",
    "\n",
    "We use PyTorch for creating our Deep Q-Network. Gymnasium and ViZDoom are used for the environment. Matplotlib is used for generating any plots."
   ]
  },
  {
   "cell_type": "code",
   "execution_count": 1,
   "id": "c453f3cf",
   "metadata": {
    "execution": {
     "iopub.execute_input": "2024-04-21T01:12:25.503220Z",
     "iopub.status.busy": "2024-04-21T01:12:25.502885Z",
     "iopub.status.idle": "2024-04-21T01:12:29.162525Z",
     "shell.execute_reply": "2024-04-21T01:12:29.161417Z"
    },
    "papermill": {
     "duration": 3.670292,
     "end_time": "2024-04-21T01:12:29.164948",
     "exception": false,
     "start_time": "2024-04-21T01:12:25.494656",
     "status": "completed"
    },
    "tags": []
   },
   "outputs": [],
   "source": [
    "# Import Relevant Libraries\n",
    "import operator\n",
    "from collections import deque\n",
    "from IPython.display import clear_output\n",
    "\n",
    "import os\n",
    "import pickle\n",
    "import numpy as np\n",
    "import random\n",
    "import math\n",
    "import matplotlib.pyplot as plt\n",
    "import cv2\n",
    "\n",
    "import torch\n",
    "import torch.nn as nn\n",
    "import torch.optim as optim\n",
    "import torch.nn.functional as F\n",
    "from torch.nn.utils import clip_grad_norm_"
   ]
  },
  {
   "cell_type": "code",
   "execution_count": 2,
   "id": "5bf59089",
   "metadata": {
    "execution": {
     "iopub.execute_input": "2024-04-21T01:12:29.181888Z",
     "iopub.status.busy": "2024-04-21T01:12:29.180987Z",
     "iopub.status.idle": "2024-04-21T01:12:59.683373Z",
     "shell.execute_reply": "2024-04-21T01:12:59.682343Z"
    },
    "papermill": {
     "duration": 30.512927,
     "end_time": "2024-04-21T01:12:59.685697",
     "exception": false,
     "start_time": "2024-04-21T01:12:29.172770",
     "status": "completed"
    },
    "tags": []
   },
   "outputs": [
    {
     "name": "stdout",
     "output_type": "stream",
     "text": [
      "Requirement already satisfied: gymnasium in /opt/conda/lib/python3.10/site-packages (0.29.0)\r\n",
      "Collecting vizdoom\r\n",
      "  Downloading vizdoom-1.2.3-cp310-cp310-manylinux_2_28_x86_64.whl.metadata (11 kB)\r\n",
      "Collecting moviepy\r\n",
      "  Downloading moviepy-1.0.3.tar.gz (388 kB)\r\n",
      "\u001b[2K     \u001b[90m━━━━━━━━━━━━━━━━━━━━━━━━━━━━━━━━━━━━━━━\u001b[0m \u001b[32m388.3/388.3 kB\u001b[0m \u001b[31m7.0 MB/s\u001b[0m eta \u001b[36m0:00:00\u001b[0m\r\n",
      "\u001b[?25h  Preparing metadata (setup.py) ... \u001b[?25l-\b \bdone\r\n",
      "\u001b[?25hRequirement already satisfied: numpy>=1.21.0 in /opt/conda/lib/python3.10/site-packages (from gymnasium) (1.26.4)\r\n",
      "Requirement already satisfied: cloudpickle>=1.2.0 in /opt/conda/lib/python3.10/site-packages (from gymnasium) (2.2.1)\r\n",
      "Requirement already satisfied: typing-extensions>=4.3.0 in /opt/conda/lib/python3.10/site-packages (from gymnasium) (4.9.0)\r\n",
      "Requirement already satisfied: farama-notifications>=0.0.1 in /opt/conda/lib/python3.10/site-packages (from gymnasium) (0.0.4)\r\n",
      "Collecting pygame>=2.1.3 (from vizdoom)\r\n",
      "  Downloading pygame-2.5.2-cp310-cp310-manylinux_2_17_x86_64.manylinux2014_x86_64.whl.metadata (13 kB)\r\n",
      "Collecting decorator<5.0,>=4.0.2 (from moviepy)\r\n",
      "  Downloading decorator-4.4.2-py2.py3-none-any.whl.metadata (4.2 kB)\r\n",
      "Requirement already satisfied: tqdm<5.0,>=4.11.2 in /opt/conda/lib/python3.10/site-packages (from moviepy) (4.66.1)\r\n",
      "Requirement already satisfied: requests<3.0,>=2.8.1 in /opt/conda/lib/python3.10/site-packages (from moviepy) (2.31.0)\r\n",
      "Collecting proglog<=1.0.0 (from moviepy)\r\n",
      "  Downloading proglog-0.1.10-py3-none-any.whl.metadata (639 bytes)\r\n",
      "Requirement already satisfied: imageio<3.0,>=2.5 in /opt/conda/lib/python3.10/site-packages (from moviepy) (2.33.1)\r\n",
      "Collecting imageio_ffmpeg>=0.2.0 (from moviepy)\r\n",
      "  Downloading imageio_ffmpeg-0.4.9-py3-none-manylinux2010_x86_64.whl.metadata (1.7 kB)\r\n",
      "Requirement already satisfied: pillow>=8.3.2 in /opt/conda/lib/python3.10/site-packages (from imageio<3.0,>=2.5->moviepy) (9.5.0)\r\n",
      "Requirement already satisfied: setuptools in /opt/conda/lib/python3.10/site-packages (from imageio_ffmpeg>=0.2.0->moviepy) (69.0.3)\r\n",
      "Requirement already satisfied: charset-normalizer<4,>=2 in /opt/conda/lib/python3.10/site-packages (from requests<3.0,>=2.8.1->moviepy) (3.3.2)\r\n",
      "Requirement already satisfied: idna<4,>=2.5 in /opt/conda/lib/python3.10/site-packages (from requests<3.0,>=2.8.1->moviepy) (3.6)\r\n",
      "Requirement already satisfied: urllib3<3,>=1.21.1 in /opt/conda/lib/python3.10/site-packages (from requests<3.0,>=2.8.1->moviepy) (1.26.18)\r\n",
      "Requirement already satisfied: certifi>=2017.4.17 in /opt/conda/lib/python3.10/site-packages (from requests<3.0,>=2.8.1->moviepy) (2024.2.2)\r\n",
      "Downloading vizdoom-1.2.3-cp310-cp310-manylinux_2_28_x86_64.whl (28.0 MB)\r\n",
      "\u001b[2K   \u001b[90m━━━━━━━━━━━━━━━━━━━━━━━━━━━━━━━━━━━━━━━━\u001b[0m \u001b[32m28.0/28.0 MB\u001b[0m \u001b[31m59.6 MB/s\u001b[0m eta \u001b[36m0:00:00\u001b[0m\r\n",
      "\u001b[?25hDownloading decorator-4.4.2-py2.py3-none-any.whl (9.2 kB)\r\n",
      "Downloading imageio_ffmpeg-0.4.9-py3-none-manylinux2010_x86_64.whl (26.9 MB)\r\n",
      "\u001b[2K   \u001b[90m━━━━━━━━━━━━━━━━━━━━━━━━━━━━━━━━━━━━━━━━\u001b[0m \u001b[32m26.9/26.9 MB\u001b[0m \u001b[31m63.4 MB/s\u001b[0m eta \u001b[36m0:00:00\u001b[0m\r\n",
      "\u001b[?25hDownloading proglog-0.1.10-py3-none-any.whl (6.1 kB)\r\n",
      "Downloading pygame-2.5.2-cp310-cp310-manylinux_2_17_x86_64.manylinux2014_x86_64.whl (14.0 MB)\r\n",
      "\u001b[2K   \u001b[90m━━━━━━━━━━━━━━━━━━━━━━━━━━━━━━━━━━━━━━━━\u001b[0m \u001b[32m14.0/14.0 MB\u001b[0m \u001b[31m81.4 MB/s\u001b[0m eta \u001b[36m0:00:00\u001b[0m\r\n",
      "\u001b[?25hBuilding wheels for collected packages: moviepy\r\n",
      "  Building wheel for moviepy (setup.py) ... \u001b[?25l-\b \b\\\b \bdone\r\n",
      "\u001b[?25h  Created wheel for moviepy: filename=moviepy-1.0.3-py3-none-any.whl size=110720 sha256=14c3199200c4caf2923c031abb73ede7ac8c403b3c2fe1bd565a8f8b8f37f1c5\r\n",
      "  Stored in directory: /root/.cache/pip/wheels/96/32/2d/e10123bd88fbfc02fed53cc18c80a171d3c87479ed845fa7c1\r\n",
      "Successfully built moviepy\r\n",
      "Installing collected packages: pygame, proglog, imageio_ffmpeg, decorator, vizdoom, moviepy\r\n",
      "  Attempting uninstall: decorator\r\n",
      "    Found existing installation: decorator 5.1.1\r\n",
      "    Uninstalling decorator-5.1.1:\r\n",
      "      Successfully uninstalled decorator-5.1.1\r\n",
      "Successfully installed decorator-4.4.2 imageio_ffmpeg-0.4.9 moviepy-1.0.3 proglog-0.1.10 pygame-2.5.2 vizdoom-1.2.3\r\n"
     ]
    }
   ],
   "source": [
    "!pip install gymnasium vizdoom moviepy\n",
    "\n",
    "import gymnasium as gym\n",
    "from gymnasium.wrappers import FrameStack, TransformReward, RecordVideo\n",
    "from vizdoom import gymnasium_wrapper"
   ]
  },
  {
   "cell_type": "markdown",
   "id": "48210fe5",
   "metadata": {
    "papermill": {
     "duration": 0.010731,
     "end_time": "2024-04-21T01:12:59.707675",
     "exception": false,
     "start_time": "2024-04-21T01:12:59.696944",
     "status": "completed"
    },
    "tags": []
   },
   "source": [
    "### Set Random Seed and Default Device\n",
    "\n",
    "In order to reproduce the results every time we run the notebook, we set a random seed. We also try to use a GPU if available."
   ]
  },
  {
   "cell_type": "code",
   "execution_count": 3,
   "id": "8a1ccb31",
   "metadata": {
    "execution": {
     "iopub.execute_input": "2024-04-21T01:12:59.730238Z",
     "iopub.status.busy": "2024-04-21T01:12:59.729904Z",
     "iopub.status.idle": "2024-04-21T01:12:59.785870Z",
     "shell.execute_reply": "2024-04-21T01:12:59.784820Z"
    },
    "papermill": {
     "duration": 0.069565,
     "end_time": "2024-04-21T01:12:59.787866",
     "exception": false,
     "start_time": "2024-04-21T01:12:59.718301",
     "status": "completed"
    },
    "tags": []
   },
   "outputs": [
    {
     "name": "stdout",
     "output_type": "stream",
     "text": [
      "cuda\n"
     ]
    }
   ],
   "source": [
    "# Set random seed for reproducibility\n",
    "randomer = 50\n",
    "random.seed(randomer)\n",
    "np.random.seed(randomer)\n",
    "torch.manual_seed(randomer)\n",
    "torch.cuda.manual_seed_all(randomer)\n",
    "\n",
    "# Default device\n",
    "device = torch.device(\"cuda\" if torch.cuda.is_available() else \"cpu\")\n",
    "\n",
    "print(device)"
   ]
  },
  {
   "cell_type": "markdown",
   "id": "1acf98ad",
   "metadata": {
    "papermill": {
     "duration": 0.010481,
     "end_time": "2024-04-21T01:12:59.809299",
     "exception": false,
     "start_time": "2024-04-21T01:12:59.798818",
     "status": "completed"
    },
    "tags": []
   },
   "source": [
    "### Segment Trees\n",
    "\n",
    "A segment tree is used to store information about segments, and can be used to efficiently store and sample transitions for prioritised experience replay.\n",
    "\n",
    "The code is inspired by that found in the [Rainbow is all you need!](https://github.com/Curt-Park/rainbow-is-all-you-need) repository, with some changes."
   ]
  },
  {
   "cell_type": "code",
   "execution_count": 4,
   "id": "b8edbc9c",
   "metadata": {
    "execution": {
     "iopub.execute_input": "2024-04-21T01:12:59.832487Z",
     "iopub.status.busy": "2024-04-21T01:12:59.832195Z",
     "iopub.status.idle": "2024-04-21T01:12:59.851783Z",
     "shell.execute_reply": "2024-04-21T01:12:59.850961Z"
    },
    "papermill": {
     "duration": 0.033369,
     "end_time": "2024-04-21T01:12:59.853648",
     "exception": false,
     "start_time": "2024-04-21T01:12:59.820279",
     "status": "completed"
    },
    "tags": []
   },
   "outputs": [],
   "source": [
    "## As found in https://github.com/Curt-Park/rainbow-is-all-you-need/blob/master/03.per.ipynb ##\n",
    "## With some changes ##\n",
    "\n",
    "class SegmentTree:\n",
    "    \"\"\"\n",
    "    Create SegmentTree.\n",
    "    Taken from OpenAI baselines github repository:\n",
    "    https://github.com/openai/baselines/blob/master/baselines/common/segment_tree.py\n",
    "    Attributes:\n",
    "        capacity (int)\n",
    "        tree (list)\n",
    "        operation (function)\n",
    "    \"\"\"\n",
    "    def __init__(self, capacity, operation, init_value):\n",
    "        \"\"\"\n",
    "        Initialisation.\n",
    "        Args:\n",
    "            capacity (int)\n",
    "            operation (function)\n",
    "            init_value (float)\n",
    "        \"\"\"\n",
    "        assert (capacity > 0 and capacity & (capacity - 1) == 0), \"capacity must be positive and a power of 2.\"\n",
    "        self.capacity = capacity\n",
    "        self.tree = [init_value for _ in range(2 * capacity)]\n",
    "        self.operation = operation\n",
    "\n",
    "    def _operate_helper(self, start, end, node, node_start, node_end):\n",
    "        \"\"\"\n",
    "        Returns result of operation in segment.\n",
    "        \"\"\"\n",
    "        if start == node_start and end == node_end:\n",
    "            return self.tree[node]\n",
    "        mid = (node_start + node_end) // 2\n",
    "        if end <= mid:\n",
    "            return self._operate_helper(start, end, 2 * node, node_start, mid)\n",
    "        else:\n",
    "            if mid + 1 <= start:\n",
    "                return self._operate_helper(start, end, 2 * node + 1, mid + 1, node_end)\n",
    "            else:\n",
    "                return self.operation(self._operate_helper(start, mid, 2 * node, node_start, mid), self._operate_helper(mid + 1, end, 2 * node + 1, mid + 1, node_end))\n",
    "\n",
    "    def operate(self, start = 0, end = 0):\n",
    "        \"\"\"\n",
    "        Returns result of applying 'self.operation'.\n",
    "        \"\"\"\n",
    "        if end <= 0:\n",
    "            end += self.capacity\n",
    "        end -= 1\n",
    "\n",
    "        return self._operate_helper(start, end, 1, 0, self.capacity - 1)\n",
    "\n",
    "    def __setitem__(self, idx, val):\n",
    "        \"\"\"\n",
    "        Set value in tree.\n",
    "        \"\"\"\n",
    "        idx += self.capacity\n",
    "        self.tree[idx] = val\n",
    "\n",
    "        idx //= 2\n",
    "        while idx >= 1:\n",
    "            self.tree[idx] = self.operation(self.tree[2 * idx], self.tree[2 * idx + 1])\n",
    "            idx //= 2\n",
    "\n",
    "    def __getitem__(self, idx):\n",
    "        \"\"\"\n",
    "        Get real value in leaf node of tree.\n",
    "        \"\"\"\n",
    "        assert 0 <= idx < self.capacity\n",
    "\n",
    "        return self.tree[self.capacity + idx]\n",
    "\n",
    "class SumSegmentTree(SegmentTree):\n",
    "    \"\"\"\n",
    "    Create SumSegmentTree.\n",
    "    Taken from OpenAI baselines github repository:\n",
    "    https://github.com/openai/baselines/blob/master/baselines/common/segment_tree.py\n",
    "    \"\"\"\n",
    "    def __init__(self, capacity):\n",
    "        \"\"\"Initialisation.\n",
    "        Args:\n",
    "            capacity (int)\n",
    "        \"\"\"\n",
    "        super(SumSegmentTree, self).__init__(capacity = capacity, operation = operator.add, init_value = 0.0)\n",
    "\n",
    "    def sum(self, start = 0, end = 0):\n",
    "        \"\"\"Returns arr[start] + ... + arr[end].\"\"\"\n",
    "        return super(SumSegmentTree, self).operate(start, end)\n",
    "\n",
    "    def retrieve(self, upperbound):\n",
    "        \"\"\"\n",
    "        Find the highest index `i` about upper bound in the tree\n",
    "        \"\"\"\n",
    "        assert 0 <= upperbound <= self.sum() + 1e-5, \"upperbound: {}\".format(upperbound)\n",
    "\n",
    "        idx = 1\n",
    "\n",
    "        while idx < self.capacity:  # while non-leaf\n",
    "            left = 2 * idx\n",
    "            right = left + 1\n",
    "            if self.tree[left] > upperbound:\n",
    "                idx = 2 * idx\n",
    "            else:\n",
    "                upperbound -= self.tree[left]\n",
    "                idx = right\n",
    "        return idx - self.capacity\n",
    "\n",
    "class MinSegmentTree(SegmentTree):\n",
    "    \"\"\"Create SegmentTree.\n",
    "    Taken from OpenAI baselines github repository:\n",
    "    https://github.com/openai/baselines/blob/master/baselines/common/segment_tree.py\n",
    "    \"\"\"\n",
    "    def __init__(self, capacity):\n",
    "        \"\"\"\n",
    "        Initialisation.\n",
    "\n",
    "        Args:\n",
    "            capacity (int)\n",
    "        \"\"\"\n",
    "        super(MinSegmentTree, self).__init__(capacity = capacity, operation = min, init_value = float(\"inf\"))\n",
    "\n",
    "    def min(self, start = 0, end = 0):\n",
    "        \"\"\"Returns min(arr[start], ...,  arr[end]).\"\"\"\n",
    "        return super(MinSegmentTree, self).operate(start, end)"
   ]
  },
  {
   "cell_type": "markdown",
   "id": "b91ccff3",
   "metadata": {
    "papermill": {
     "duration": 0.010696,
     "end_time": "2024-04-21T01:12:59.875859",
     "exception": false,
     "start_time": "2024-04-21T01:12:59.865163",
     "status": "completed"
    },
    "tags": []
   },
   "source": [
    "### Replay Buffer\n",
    "\n",
    "A replay buffer stores and replays experiences gathered from interactions of our agent with the environment. It is a fundamental component of a Deep Q-Network, tackling the problem of autocorrelation which can lead to unstable training.\n",
    "\n",
    "The code is inspired by that found in the [Rainbow is all you need!](https://github.com/Curt-Park/rainbow-is-all-you-need) repository, with some changes."
   ]
  },
  {
   "cell_type": "code",
   "execution_count": 5,
   "id": "d4959935",
   "metadata": {
    "execution": {
     "iopub.execute_input": "2024-04-21T01:12:59.898775Z",
     "iopub.status.busy": "2024-04-21T01:12:59.898260Z",
     "iopub.status.idle": "2024-04-21T01:12:59.908426Z",
     "shell.execute_reply": "2024-04-21T01:12:59.907602Z"
    },
    "papermill": {
     "duration": 0.02374,
     "end_time": "2024-04-21T01:12:59.910333",
     "exception": false,
     "start_time": "2024-04-21T01:12:59.886593",
     "status": "completed"
    },
    "tags": []
   },
   "outputs": [],
   "source": [
    "class ReplayBuffer:\n",
    "    \"\"\"\n",
    "    A simple NumPy replay buffer.\n",
    "    \"\"\"\n",
    "    def __init__(self, obs_shape, size, batch_size = 32):\n",
    "        self.obs_buf = np.zeros([size] + list(obs_shape), dtype = np.float32)\n",
    "        self.next_obs_buf = np.zeros([size] + list(obs_shape), dtype = np.float32)\n",
    "        self.acts_buf = np.zeros([size], dtype = np.float32)\n",
    "        self.rews_buf = np.zeros([size], dtype = np.float32)\n",
    "        self.done_buf = np.zeros(size, dtype = np.float32)\n",
    "        self.max_size, self.batch_size = size, batch_size\n",
    "        self.ptr, self.size, = 0, 0\n",
    "\n",
    "    def store(self, obs, act, rew, next_obs, done):\n",
    "        self.obs_buf[self.ptr] = obs\n",
    "        self.next_obs_buf[self.ptr] = next_obs\n",
    "        self.acts_buf[self.ptr] = act\n",
    "        self.rews_buf[self.ptr] = rew\n",
    "        self.done_buf[self.ptr] = done\n",
    "        self.ptr = (self.ptr + 1) % self.max_size\n",
    "        self.size = min(self.size + 1, self.max_size)\n",
    "\n",
    "    def sample_batch(self):\n",
    "        idxs = np.random.choice(self.size, size = self.batch_size, replace = False)\n",
    "\n",
    "        return dict(obs = self.obs_buf[idxs], next_obs = self.next_obs_buf[idxs], acts = self.acts_buf[idxs], rews = self.rews_buf[idxs], done = self.done_buf[idxs], indices = idxs)\n",
    "\n",
    "    def __len__(self):\n",
    "        return self.size"
   ]
  },
  {
   "cell_type": "markdown",
   "id": "8ed0a048",
   "metadata": {
    "papermill": {
     "duration": 0.010769,
     "end_time": "2024-04-21T01:12:59.932137",
     "exception": false,
     "start_time": "2024-04-21T01:12:59.921368",
     "status": "completed"
    },
    "tags": []
   },
   "source": [
    "### Prioritised Experience Replay Buffer\n",
    "\n",
    "Prioritised experience replay ensures that important transitions are replayed more frequently, which allows for improved learning. Transitions are prioritised by the size of the temporal difference error.\n",
    "\n",
    "The code is inspired by that found in the [Rainbow is all you need!](https://github.com/Curt-Park/rainbow-is-all-you-need) repository, with some changes."
   ]
  },
  {
   "cell_type": "code",
   "execution_count": 6,
   "id": "6d90e296",
   "metadata": {
    "execution": {
     "iopub.execute_input": "2024-04-21T01:12:59.955408Z",
     "iopub.status.busy": "2024-04-21T01:12:59.955133Z",
     "iopub.status.idle": "2024-04-21T01:12:59.971426Z",
     "shell.execute_reply": "2024-04-21T01:12:59.970607Z"
    },
    "papermill": {
     "duration": 0.030039,
     "end_time": "2024-04-21T01:12:59.973253",
     "exception": false,
     "start_time": "2024-04-21T01:12:59.943214",
     "status": "completed"
    },
    "tags": []
   },
   "outputs": [],
   "source": [
    "class PrioritizedReplayBuffer(ReplayBuffer):\n",
    "    \"\"\"\n",
    "    Prioritized Replay Buffer.\n",
    "    \"\"\"\n",
    "    def __init__(self, obs_shape, size, batch_size = 32, alpha = 0.5):\n",
    "        \"\"\"Initialisation.\"\"\"\n",
    "        assert alpha >= 0\n",
    "\n",
    "        super(PrioritizedReplayBuffer, self).__init__(obs_shape, size, batch_size)\n",
    "        self.max_priority, self.tree_ptr = 1.0, 0\n",
    "        self.alpha = alpha\n",
    "\n",
    "        # capacity must be positive and a power of 2.\n",
    "        tree_capacity = 1\n",
    "        while tree_capacity < self.max_size:\n",
    "            tree_capacity *= 2\n",
    "\n",
    "        self.sum_tree = SumSegmentTree(tree_capacity)\n",
    "        self.min_tree = MinSegmentTree(tree_capacity)\n",
    "\n",
    "    def store(self, obs, act, rew, next_obs, done):\n",
    "        \"\"\"\n",
    "        Store experience and priority.\n",
    "        \"\"\"\n",
    "        super().store(obs, act, rew, next_obs, done)\n",
    "\n",
    "        self.sum_tree[self.tree_ptr] = self.max_priority ** self.alpha\n",
    "        self.min_tree[self.tree_ptr] = self.max_priority ** self.alpha\n",
    "        self.tree_ptr = (self.tree_ptr + 1) % self.max_size\n",
    "\n",
    "    def sample_batch(self, beta = 0.4):\n",
    "        \"\"\"\n",
    "        Sample a batch of experiences.\n",
    "        \"\"\"\n",
    "        assert len(self) >= self.batch_size\n",
    "        assert beta > 0\n",
    "\n",
    "        indices = self._sample_proportional()\n",
    "\n",
    "        obs = self.obs_buf[indices]\n",
    "        next_obs = self.next_obs_buf[indices]\n",
    "        acts = self.acts_buf[indices]\n",
    "        rews = self.rews_buf[indices]\n",
    "        done = self.done_buf[indices]\n",
    "        weights = np.array([self._calculate_weight(i, beta) for i in indices])\n",
    "\n",
    "        return dict(obs = obs, next_obs = next_obs, acts = acts, rews = rews, done = done, weights = weights, indices = indices)\n",
    "\n",
    "    def update_priorities(self, indices, priorities):\n",
    "        \"\"\"\n",
    "        Update priorities of sampled transitions.\n",
    "        \"\"\"\n",
    "        assert len(indices) == len(priorities)\n",
    "\n",
    "        for idx, priority in zip(indices, priorities):\n",
    "            assert priority > 0\n",
    "            assert 0 <= idx < len(self)\n",
    "\n",
    "            self.sum_tree[idx] = priority ** self.alpha\n",
    "            self.min_tree[idx] = priority ** self.alpha\n",
    "\n",
    "            self.max_priority = max(self.max_priority, priority)\n",
    "\n",
    "    def _sample_proportional(self):\n",
    "        \"\"\"\n",
    "        Sample indices based on proportions.\n",
    "        \"\"\"\n",
    "        indices = []\n",
    "        p_total = self.sum_tree.sum(0, len(self) - 1)\n",
    "        segment = p_total / self.batch_size\n",
    "\n",
    "        for i in range(self.batch_size):\n",
    "            a = segment * i\n",
    "            b = segment * (i + 1)\n",
    "            upperbound = random.uniform(a, b)\n",
    "            idx = self.sum_tree.retrieve(upperbound)\n",
    "            indices.append(idx)\n",
    "\n",
    "        return indices\n",
    "\n",
    "    def _calculate_weight(self, idx, beta):\n",
    "        \"\"\"\n",
    "        Calculate the weight of the experience at idx.\n",
    "        \"\"\"\n",
    "        # Get max weight\n",
    "        p_min = self.min_tree.min() / self.sum_tree.sum()\n",
    "        max_weight = (p_min * len(self)) ** (-beta)\n",
    "\n",
    "        # Calculate weights\n",
    "        p_sample = self.sum_tree[idx] / self.sum_tree.sum()\n",
    "        weight = (p_sample * len(self)) ** (-beta)\n",
    "        weight = weight / max_weight\n",
    "\n",
    "        return weight"
   ]
  },
  {
   "cell_type": "markdown",
   "id": "8501701f",
   "metadata": {
    "papermill": {
     "duration": 0.010883,
     "end_time": "2024-04-21T01:12:59.994981",
     "exception": false,
     "start_time": "2024-04-21T01:12:59.984098",
     "status": "completed"
    },
    "tags": []
   },
   "source": [
    "### Noisy Linear\n",
    "\n",
    "A noisy linear layer is a standard linear layer that contains parametric noise in its weights. This adds stochasticity to the agent's policy, leading to efficient exploration. This replaces the $\\epsilon$-greedy policy commonly used in reinforcement learning problems.\n",
    "\n",
    "The code is inspired by that found in the [RL-Adventure](https://github.com/higgsfield/RL-Adventure/) repository, with some changes."
   ]
  },
  {
   "cell_type": "code",
   "execution_count": 7,
   "id": "f15a9892",
   "metadata": {
    "execution": {
     "iopub.execute_input": "2024-04-21T01:13:00.018098Z",
     "iopub.status.busy": "2024-04-21T01:13:00.017847Z",
     "iopub.status.idle": "2024-04-21T01:13:00.031220Z",
     "shell.execute_reply": "2024-04-21T01:13:00.030352Z"
    },
    "papermill": {
     "duration": 0.027222,
     "end_time": "2024-04-21T01:13:00.033066",
     "exception": false,
     "start_time": "2024-04-21T01:13:00.005844",
     "status": "completed"
    },
    "tags": []
   },
   "outputs": [],
   "source": [
    "## As found in https://github.com/higgsfield/RL-Adventure/blob/master/5.noisy%20dqn.ipynb ##\n",
    "## With some changes ##\n",
    "\n",
    "class NoisyLinear(nn.Module):\n",
    "    def __init__(self, in_features, out_features, std_init = 0.5):\n",
    "        super(NoisyLinear, self).__init__()\n",
    "\n",
    "        self.in_features = in_features\n",
    "        self.out_features = out_features\n",
    "        self.std_init = std_init\n",
    "\n",
    "        self.weight_mu = nn.Parameter(torch.empty(out_features, in_features, device = device, dtype = torch.float, requires_grad = True))\n",
    "        self.weight_sigma = nn.Parameter(torch.empty(out_features, in_features, device = device, dtype = torch.float, requires_grad = True))\n",
    "        self.register_buffer(\"weight_epsilon\", torch.empty(out_features, in_features, device = device, dtype = torch.float))\n",
    "\n",
    "        self.bias_mu = nn.Parameter(torch.empty(out_features, device = device, dtype = torch.float, requires_grad = True))\n",
    "        self.bias_sigma = nn.Parameter(torch.empty(out_features, device = device, dtype = torch.float, requires_grad = True))\n",
    "        self.register_buffer(\"bias_epsilon\", torch.empty(out_features, device = device, dtype = torch.float))\n",
    "\n",
    "        self.reset_parameters()\n",
    "        self.reset_noise()\n",
    "\n",
    "    def forward(self, x):\n",
    "        if self.training:\n",
    "            weight = self.weight_mu + self.weight_sigma * self.weight_epsilon\n",
    "            bias = self.bias_mu + self.bias_sigma * self.bias_epsilon\n",
    "        else:\n",
    "            weight = self.weight_mu\n",
    "            bias = self.bias_mu\n",
    "\n",
    "        return F.linear(x, weight, bias)\n",
    "\n",
    "    def reset_parameters(self):\n",
    "        mu_range = 1 / math.sqrt(self.in_features)\n",
    "\n",
    "        self.weight_mu.data.uniform_(-mu_range, mu_range)\n",
    "        self.weight_sigma.data.fill_(self.std_init / math.sqrt(self.in_features))\n",
    "        \n",
    "        if self.bias_mu is not None:\n",
    "            self.bias_mu.data.uniform_(-mu_range, mu_range)\n",
    "            self.bias_sigma.data.fill_(self.std_init / math.sqrt(self.out_features))\n",
    "\n",
    "    def reset_noise(self):\n",
    "        epsilon_in = self.scale_noise(self.in_features)\n",
    "        epsilon_out = self.scale_noise(self.out_features)\n",
    "        self.weight_epsilon.copy_(epsilon_out.outer(epsilon_in))\n",
    "        \n",
    "        if self.bias_mu is not None:\n",
    "            self.bias_epsilon.copy_(epsilon_out)\n",
    "\n",
    "    def scale_noise(self, size):\n",
    "        if isinstance(size, int):\n",
    "            size = (size,)\n",
    "        x = torch.randn(size, device = self.weight_mu.device)\n",
    "        return x.sign().mul_(x.abs().sqrt_())"
   ]
  },
  {
   "cell_type": "markdown",
   "id": "4f15801e",
   "metadata": {
    "papermill": {
     "duration": 0.010756,
     "end_time": "2024-04-21T01:13:00.054865",
     "exception": false,
     "start_time": "2024-04-21T01:13:00.044109",
     "status": "completed"
    },
    "tags": []
   },
   "source": [
    "### Noisy Network Deep Q-Network\n",
    "\n",
    "The model is a convolutional neural network, allowing for pixel data to be input. Three convolutional layers and two noisy linear layers are used as found in the code. The model also outputs an action based on an input state, using an exploratory policy formed by the noisy networks.\n",
    "\n",
    "The code is inspired by that found in the [RL-Adventure](https://github.com/higgsfield/RL-Adventure/) repository, with some changes."
   ]
  },
  {
   "cell_type": "code",
   "execution_count": 8,
   "id": "3aa67716",
   "metadata": {
    "execution": {
     "iopub.execute_input": "2024-04-21T01:13:00.077874Z",
     "iopub.status.busy": "2024-04-21T01:13:00.077625Z",
     "iopub.status.idle": "2024-04-21T01:13:00.088751Z",
     "shell.execute_reply": "2024-04-21T01:13:00.088029Z"
    },
    "papermill": {
     "duration": 0.024845,
     "end_time": "2024-04-21T01:13:00.090652",
     "exception": false,
     "start_time": "2024-04-21T01:13:00.065807",
     "status": "completed"
    },
    "tags": []
   },
   "outputs": [],
   "source": [
    "## As found in https://github.com/higgsfield/RL-Adventure/blob/master/5.noisy%20dqn.ipynb ##\n",
    "## With some changes ##\n",
    "\n",
    "class NoisyDQN(nn.Module):\n",
    "    def __init__(self, input_shape, num_actions, noisy_std = 0.5):\n",
    "        super(NoisyDQN, self).__init__()\n",
    "        \n",
    "        self.input_shape = input_shape\n",
    "        self.num_actions = num_actions\n",
    "        \n",
    "        self.features = nn.Sequential(\n",
    "            nn.Conv2d(input_shape[0], 32, kernel_size = 8, stride = 4),\n",
    "            nn.ReLU(),\n",
    "            nn.Conv2d(32, 64, kernel_size = 4, stride = 2),\n",
    "            nn.ReLU(),\n",
    "            nn.Conv2d(64, 64, kernel_size = 3, stride = 1),\n",
    "            nn.ReLU()\n",
    "        ).to(device)\n",
    "        \n",
    "        self.noisy1 = NoisyLinear(self.feature_size(), 512, std_init = noisy_std)\n",
    "        self.noisy2 = NoisyLinear(512, num_actions, std_init = noisy_std)\n",
    "        \n",
    "    def forward(self, x):\n",
    "        batch_size = x.size(0)\n",
    "        \n",
    "        x = x / 255.0\n",
    "        x = self.features(x)\n",
    "        x = x.view(batch_size, -1)\n",
    "        \n",
    "        x = F.relu(self.noisy1(x))\n",
    "        x = self.noisy2(x)\n",
    "        return x\n",
    "    \n",
    "    def reset_noise(self):\n",
    "        self.noisy1.reset_noise()\n",
    "        self.noisy2.reset_noise()\n",
    "    \n",
    "    def feature_size(self):\n",
    "        return self.features(torch.zeros(1, *self.input_shape, device = device)).view(1, -1).size(1)\n",
    "    \n",
    "    def act(self, state):\n",
    "        if torch.is_tensor(state) == False:\n",
    "            state = np.array(np.float32(state))\n",
    "            state = torch.tensor(np.float32(state), dtype = torch.float, device = device).unsqueeze(0)\n",
    "        q_value = self.forward(state)\n",
    "        action = int(q_value.max(1)[1].data[0])\n",
    "        return action"
   ]
  },
  {
   "cell_type": "markdown",
   "id": "6282b072",
   "metadata": {
    "papermill": {
     "duration": 0.010694,
     "end_time": "2024-04-21T01:13:00.112159",
     "exception": false,
     "start_time": "2024-04-21T01:13:00.101465",
     "status": "completed"
    },
    "tags": []
   },
   "source": [
    "### Environment Selection\n",
    "\n",
    "We define the actual environment to use, which in our case is the ViZDoom 'Defend The Center' environment. Frame skipping is also employed."
   ]
  },
  {
   "cell_type": "code",
   "execution_count": 9,
   "id": "93807b21",
   "metadata": {
    "execution": {
     "iopub.execute_input": "2024-04-21T01:13:00.137600Z",
     "iopub.status.busy": "2024-04-21T01:13:00.137316Z",
     "iopub.status.idle": "2024-04-21T01:13:00.853535Z",
     "shell.execute_reply": "2024-04-21T01:13:00.852412Z"
    },
    "papermill": {
     "duration": 0.732595,
     "end_time": "2024-04-21T01:13:00.855679",
     "exception": false,
     "start_time": "2024-04-21T01:13:00.123084",
     "status": "completed"
    },
    "tags": []
   },
   "outputs": [
    {
     "name": "stderr",
     "output_type": "stream",
     "text": [
      "/opt/conda/lib/python3.10/site-packages/vizdoom/gymnasium_wrapper/base_gymnasium_env.py:84: UserWarning: Detected screen format CRCGCB. Only RGB24 and GRAY8 are supported in the Gymnasium wrapper. Forcing RGB24.\n",
      "  warnings.warn(\n"
     ]
    },
    {
     "name": "stdout",
     "output_type": "stream",
     "text": [
      "Observation Space: Dict('gamevariables': Box(-3.4028235e+38, 3.4028235e+38, (2,), float32), 'screen': Box(0, 255, (240, 320, 3), uint8))\n",
      "Action Space: Discrete(4)\n"
     ]
    },
    {
     "data": {
      "text/plain": [
       "[50]"
      ]
     },
     "execution_count": 9,
     "metadata": {},
     "output_type": "execute_result"
    }
   ],
   "source": [
    "env_id = \"VizdoomDefendCenter-v0\"\n",
    "env = gym.make(env_id, render_mode = \"rgb_array\", frame_skip = 4)\n",
    "\n",
    "print(f\"Observation Space: {env.observation_space}\\nAction Space: {env.action_space}\")\n",
    "\n",
    "env.action_space.seed(randomer)"
   ]
  },
  {
   "cell_type": "markdown",
   "id": "adb847e7",
   "metadata": {
    "papermill": {
     "duration": 0.011177,
     "end_time": "2024-04-21T01:13:00.878695",
     "exception": false,
     "start_time": "2024-04-21T01:13:00.867518",
     "status": "completed"
    },
    "tags": []
   },
   "source": [
    "### Environment Manipulation\n",
    "\n",
    "We need to preprocess our environment accordingly in order for it to pass through the Deep Q-Network. The observations from ViZDoom are provided as dictionaries, which Gymnasium does not accept, meaning that we need to translate these dictionaries into actual objects acceptable by Gymnasium. The dictionary consists of two items, namely 'gamevariables' and 'screen'. We need the 'screen' item, which contains the actual pixel space that a human would view if they were to play the ViZDoom game themselves. Grayscaling is employed on the frames, since colours do not provide important information. The reward can optionally be scaled by some parameter if desired, though this is commented out and not performed in our work. Framestacking is employed as the final step."
   ]
  },
  {
   "cell_type": "code",
   "execution_count": 10,
   "id": "1e7b3e08",
   "metadata": {
    "execution": {
     "iopub.execute_input": "2024-04-21T01:13:00.903334Z",
     "iopub.status.busy": "2024-04-21T01:13:00.902590Z",
     "iopub.status.idle": "2024-04-21T01:13:00.920349Z",
     "shell.execute_reply": "2024-04-21T01:13:00.919350Z"
    },
    "papermill": {
     "duration": 0.032058,
     "end_time": "2024-04-21T01:13:00.922152",
     "exception": false,
     "start_time": "2024-04-21T01:13:00.890094",
     "status": "completed"
    },
    "tags": []
   },
   "outputs": [
    {
     "name": "stdout",
     "output_type": "stream",
     "text": [
      "Dict('gamevariables': Box(-3.4028235e+38, 3.4028235e+38, (2,), float32), 'screen': Box(0, 255, (240, 320, 3), uint8))\n",
      "Observation Space: Box(0, 255, (4, 84, 84), uint8)\n",
      "Action Space: Discrete(4)\n"
     ]
    }
   ],
   "source": [
    "class ObservationWrapper(gym.ObservationWrapper):\n",
    "    \"\"\"\n",
    "    ViZDoom environments return dictionaries as observations, containing\n",
    "    the main image as well other info.\n",
    "    The image is also too large for normal training.\n",
    "\n",
    "    This wrapper replaces the dictionary observation space with a simple\n",
    "    Box space (i.e., only the RGB image), and also resizes the image to a\n",
    "    smaller size.\n",
    "\n",
    "    NOTE: Ideally, you should set the image size to smaller in the scenario files\n",
    "          for faster running of ViZDoom. This can really impact performance,\n",
    "          and this code is pretty slow because of this!\n",
    "    \"\"\"\n",
    "    def __init__(self, env, shape = (84, 84)):\n",
    "        super().__init__(env)\n",
    "        self.image_shape = shape\n",
    "        self.image_shape_reverse = shape[::-1]\n",
    "\n",
    "        # Create new observation space with the new shape\n",
    "        print(env.observation_space)\n",
    "        num_channels = env.observation_space[\"screen\"].shape[-1]\n",
    "        new_shape = (shape[0], shape[1], num_channels)\n",
    "        self.observation_space = gym.spaces.Box(\n",
    "            0, 255, shape = new_shape, dtype = np.uint8\n",
    "        )\n",
    "\n",
    "    def observation(self, observation):\n",
    "        observation = cv2.resize(observation[\"screen\"], self.image_shape_reverse)\n",
    "        return observation\n",
    "\n",
    "class GrayScaleObservation(gym.ObservationWrapper):\n",
    "    \"\"\"\n",
    "    Convert the image observation from RGB to grayscale.\n",
    "    Example:\n",
    "        >>> env = gym.make('CarRacing-v1')\n",
    "        >>> env.observation_space\n",
    "        Box(0, 255, (96, 96, 3), uint8)\n",
    "        >>> env = GrayScaleObservation(gym.make('CarRacing-v1'))\n",
    "        >>> env.observation_space\n",
    "        Box(0, 255, (96, 96), uint8)\n",
    "        >>> env = GrayScaleObservation(gym.make('CarRacing-v1'), keep_dim=True)\n",
    "        >>> env.observation_space\n",
    "        Box(0, 255, (96, 96, 1), uint8)\n",
    "    \"\"\"\n",
    "    def __init__(self, env: gym.Env, keep_dim: bool = False):\n",
    "        \"\"\"\n",
    "        Convert the image observation from RGB to grayscale.\n",
    "        Args:\n",
    "            env (Env): The environment to apply the wrapper\n",
    "            keep_dim (bool): If `True`, a singleton dimension will be added, i.e. observations are of the shape AxBx1.\n",
    "                Otherwise, they are of shape AxB.\n",
    "        \"\"\"\n",
    "        super().__init__(env)\n",
    "        self.keep_dim = keep_dim\n",
    "\n",
    "        assert (\n",
    "            isinstance(self.observation_space, gym.spaces.Box)\n",
    "            and len(self.observation_space.shape) == 3\n",
    "            and self.observation_space.shape[-1] == 3\n",
    "        )\n",
    "\n",
    "        obs_shape = self.observation_space.shape[:2]\n",
    "        if self.keep_dim:\n",
    "            self.observation_space = gym.spaces.Box(\n",
    "                low = 0, high = 255, shape = (obs_shape[0], obs_shape[1], 1), dtype = np.uint8\n",
    "            )\n",
    "        else:\n",
    "            self.observation_space = gym.spaces.Box(\n",
    "                low = 0, high = 255, shape = obs_shape, dtype = np.uint8\n",
    "            )\n",
    "\n",
    "    def observation(self, observation):\n",
    "        \"\"\"\n",
    "        Converts the colour observation to grayscale.\n",
    "        Args:\n",
    "            observation: Color observations\n",
    "        Returns:\n",
    "            Grayscale observations\n",
    "        \"\"\"\n",
    "\n",
    "        observation = cv2.cvtColor(observation, cv2.COLOR_RGB2GRAY)\n",
    "        if self.keep_dim:\n",
    "            observation = np.expand_dims(observation, -1)\n",
    "        return observation\n",
    "\n",
    "# Apply Wrappers to environment (working for ViZDoom environments only, replace with standard Gymnasium ones for other environments)\n",
    "env = ObservationWrapper(env)\n",
    "env = GrayScaleObservation(env)\n",
    "# Transforms reward by scalar, can be commented out if not needed\n",
    "#env = TransformReward(env, lambda r: r * 0.01)\n",
    "\n",
    "# Frame stacking\n",
    "if gym.__version__ < \"0.26\":\n",
    "    env = FrameStack(env, num_stack = 4, new_step_api = True)\n",
    "else:\n",
    "    env = FrameStack(env, num_stack = 4)\n",
    "\n",
    "print(f\"Observation Space: {env.observation_space}\\nAction Space: {env.action_space}\")"
   ]
  },
  {
   "cell_type": "markdown",
   "id": "bf3e9661",
   "metadata": {
    "papermill": {
     "duration": 0.011274,
     "end_time": "2024-04-21T01:13:00.944866",
     "exception": false,
     "start_time": "2024-04-21T01:13:00.933592",
     "status": "completed"
    },
    "tags": []
   },
   "source": [
    "### Adjust Learning Rate and Moving Average Plotting\n",
    "\n",
    "While not an important step, we can scale the learning rate during training as a method to improve the gradient descent algorithm, by making smaller steps to the global minimum. The moving average is a sensible way to visualise the performance of our agent during training, which essentially calculates the moving average reward between a window of a certain number of episodes."
   ]
  },
  {
   "cell_type": "code",
   "execution_count": 11,
   "id": "90109df8",
   "metadata": {
    "execution": {
     "iopub.execute_input": "2024-04-21T01:13:00.968809Z",
     "iopub.status.busy": "2024-04-21T01:13:00.968509Z",
     "iopub.status.idle": "2024-04-21T01:13:00.974190Z",
     "shell.execute_reply": "2024-04-21T01:13:00.973349Z"
    },
    "papermill": {
     "duration": 0.019739,
     "end_time": "2024-04-21T01:13:00.976000",
     "exception": false,
     "start_time": "2024-04-21T01:13:00.956261",
     "status": "completed"
    },
    "tags": []
   },
   "outputs": [],
   "source": [
    "# Scale learning rate\n",
    "def adjust_learning_rate(optimizer, shrink_factor):\n",
    "    \"\"\"\n",
    "    Shrinks learning rate by a specified factor\n",
    "\n",
    "    optimizer: optimizer whose learning rate must be shrunk\n",
    "    shrink_factor: factor in interval (0, 1) to multiply learning rate with\n",
    "    \"\"\"\n",
    "\n",
    "    print(\"\\nDECAYING learning rate\")\n",
    "    for param_group in optimizer.param_groups:\n",
    "        param_group[\"lr\"] = param_group[\"lr\"] * shrink_factor\n",
    "    print(\"The new learning rate is %f\\n\" % (optimizer.param_groups[0][\"lr\"]))\n",
    "\n",
    "# Calculate moving average (for plotting)\n",
    "def moving_average(data, window_size = 100):\n",
    "    return np.convolve(a = data, v = np.ones(window_size), mode = \"valid\") / window_size"
   ]
  },
  {
   "cell_type": "markdown",
   "id": "6cd2eaea",
   "metadata": {
    "papermill": {
     "duration": 0.011364,
     "end_time": "2024-04-21T01:13:00.998956",
     "exception": false,
     "start_time": "2024-04-21T01:13:00.987592",
     "status": "completed"
    },
    "tags": []
   },
   "source": [
    "### Model and Training Hyperparameters\n",
    "\n",
    "The model and training hyperparameters are defined here, including the number of frames to train for, the replay buffer size, any policy related parameters, and the choice of optimiser."
   ]
  },
  {
   "cell_type": "code",
   "execution_count": 12,
   "id": "e9c26a9f",
   "metadata": {
    "execution": {
     "iopub.execute_input": "2024-04-21T01:13:01.023290Z",
     "iopub.status.busy": "2024-04-21T01:13:01.023034Z",
     "iopub.status.idle": "2024-04-21T01:13:01.027870Z",
     "shell.execute_reply": "2024-04-21T01:13:01.027060Z"
    },
    "papermill": {
     "duration": 0.019279,
     "end_time": "2024-04-21T01:13:01.029812",
     "exception": false,
     "start_time": "2024-04-21T01:13:01.010533",
     "status": "completed"
    },
    "tags": []
   },
   "outputs": [],
   "source": [
    "num_frames = 1000000\n",
    "memory_size = 100000\n",
    "batch_size = 32\n",
    "target_update = 8000\n",
    "seed = 50\n",
    "\n",
    "## Discount Factor ##\n",
    "gamma = 0.99\n",
    "\n",
    "## Prioritised Experience Replay ##\n",
    "alpha = 0.5\n",
    "beta = 0.4\n",
    "prior_eps = 0.000001\n",
    "\n",
    "## Noisy Network ##\n",
    "noisy_std = 0.5\n",
    "\n",
    "## Optimizer ##\n",
    "learning_rate = 0.00001\n",
    "optimizer = \"adam\""
   ]
  },
  {
   "cell_type": "markdown",
   "id": "9b889255",
   "metadata": {
    "papermill": {
     "duration": 0.01156,
     "end_time": "2024-04-21T01:13:01.053460",
     "exception": false,
     "start_time": "2024-04-21T01:13:01.041900",
     "status": "completed"
    },
    "tags": []
   },
   "source": [
    "### Noisy DQN Agent Class\n",
    "\n",
    "We create a class for our agent, which will train the agent using the defined hyperparameters. The class comes with .train() and .test() functions, which train the agent for a set number of frames and test the agent on a single episode respectively.\n",
    "\n",
    "The code is inspired by that found in the [Rainbow is all you need!](https://github.com/Curt-Park/rainbow-is-all-you-need) repository, with some changes."
   ]
  },
  {
   "cell_type": "code",
   "execution_count": 13,
   "id": "a368b2ce",
   "metadata": {
    "execution": {
     "iopub.execute_input": "2024-04-21T01:13:01.078492Z",
     "iopub.status.busy": "2024-04-21T01:13:01.078211Z",
     "iopub.status.idle": "2024-04-21T01:13:01.118323Z",
     "shell.execute_reply": "2024-04-21T01:13:01.117477Z"
    },
    "papermill": {
     "duration": 0.055075,
     "end_time": "2024-04-21T01:13:01.120207",
     "exception": false,
     "start_time": "2024-04-21T01:13:01.065132",
     "status": "completed"
    },
    "tags": []
   },
   "outputs": [],
   "source": [
    "## As found in https://github.com/Curt-Park/rainbow-is-all-you-need/blob/master/05.noisy_net.ipynb ##\n",
    "## With some changes ##\n",
    "\n",
    "class NoisyAgent:\n",
    "    \"\"\"\n",
    "    Noisy Network (with PER) DQN Agent\n",
    "    \"\"\"\n",
    "\n",
    "    def __init__(self, env, memory_size, batch_size, target_update, seed, gamma = 0.99, alpha = 0.5, beta = 0.4, prior_eps = 0.000001, noisy_std = 0.5, learning_rate = 0.0000625, optimizer = \"adam\"):\n",
    "        \"\"\"\n",
    "        Initialise the Noisy agent with the provided parameters.\n",
    "        \n",
    "        Args:\n",
    "            env (gymnasium.Env): Gymnasium environment\n",
    "            memory_size: Size of the replay buffer\n",
    "            batch_size: Batch size for training\n",
    "            target_update: Interval for target network update\n",
    "            seed (int): Seed for random number generation\n",
    "            gamma: Discount factor (default: 0.99)\n",
    "            alpha: Prioritization exponent (default: 0.5)\n",
    "            beta: Importance sampling exponent (default: 0.4)\n",
    "            prior_eps: Small constant to avoid division by zero (default: 0.000001)\n",
    "            noisy_std: Standard deviation of the noisy network (default: 0.5)\n",
    "            learning_rate: Learning rate for the optimizer (default: 0.0000625)\n",
    "            optimizer (str): Name of the optimizer to use (\"adam\", \"rmsprop\", or \"sgd\") (default: \"adam\")\n",
    "        \"\"\"\n",
    "        obs_dim = env.observation_space.shape\n",
    "        action_dim = env.action_space.n\n",
    "\n",
    "        self.env = env\n",
    "        self.batch_size = batch_size\n",
    "        self.target_update = target_update\n",
    "        self.seed = seed\n",
    "        self.gamma = gamma\n",
    "        self.alpha = alpha\n",
    "        self.beta = beta\n",
    "        self.prior_eps = prior_eps\n",
    "        \n",
    "        self.device = torch.device(\"cuda\" if torch.cuda.is_available() else \"cpu\")\n",
    "        print(self.device)\n",
    "        \n",
    "        # Prioritised Experience Replay\n",
    "        self.memory = PrioritizedReplayBuffer(obs_dim, memory_size, batch_size, alpha)\n",
    "        \n",
    "        # Action space seed\n",
    "        self.env.action_space.seed(seed)\n",
    "\n",
    "        # Neural network models setup\n",
    "        self.dqn = NoisyDQN(obs_dim, action_dim, noisy_std = noisy_std).to(self.device)\n",
    "        self.dqn_target = NoisyDQN(obs_dim, action_dim, noisy_std = noisy_std).to(self.device)\n",
    "        self.dqn_target.load_state_dict(self.dqn.state_dict())\n",
    "        self.dqn_target.eval()\n",
    "        \n",
    "        # Optimizer setup\n",
    "        optimizer.lower()\n",
    "        if optimizer == \"adam\":\n",
    "            self.optimizer = optim.Adam(self.dqn.parameters(), lr = learning_rate)\n",
    "        if optimizer == \"rmsprop\":\n",
    "            self.optimizer = optim.RMSprop(self.dqn.parameters(), lr = learning_rate)\n",
    "        if optimizer == \"sgd\":\n",
    "            self.optimizer = optim.SGD(self.dqn.parameters(), lr = learning_rate)\n",
    "\n",
    "        # Transition to store in memory\n",
    "        self.transition = list()\n",
    "        \n",
    "        # Mode: train / test\n",
    "        self.is_test = False\n",
    "\n",
    "    def select_action(self, state):\n",
    "        \"\"\"\n",
    "        Select an action from the input state.\n",
    "        \"\"\"\n",
    "        selected_action = self.dqn.act(state)\n",
    "        \n",
    "        if not self.is_test:\n",
    "            self.transition = [state, selected_action]\n",
    "        \n",
    "        return selected_action\n",
    "\n",
    "    def step(self, action):\n",
    "        \"\"\"\n",
    "        Take an action and return the response of the environment.\n",
    "        \"\"\"\n",
    "        next_state, reward, terminated, truncated, _ = self.env.step(action)\n",
    "        done = terminated or truncated\n",
    "\n",
    "        if not self.is_test:\n",
    "            self.transition += [reward, next_state, done]\n",
    "            self.memory.store(*self.transition)\n",
    "    \n",
    "        return next_state, reward, done\n",
    "\n",
    "    def update_model(self):\n",
    "        \"\"\"\n",
    "        Update the model by gradient descent.\n",
    "        \"\"\"\n",
    "        # PER needs beta to calculate weights\n",
    "        samples = self.memory.sample_batch(self.beta)\n",
    "        weights = torch.tensor(samples[\"weights\"].reshape(-1, 1), dtype = torch.float, device = self.device).to(self.device)\n",
    "        indices = samples[\"indices\"]\n",
    "\n",
    "        # PER: importance sampling before average\n",
    "        elementwise_loss = self._compute_dqn_loss(samples)\n",
    "        loss = torch.mean(elementwise_loss * weights)\n",
    "\n",
    "        self.optimizer.zero_grad()\n",
    "        loss.backward()\n",
    "        self.optimizer.step()\n",
    "\n",
    "        # PER: update priorities\n",
    "        loss_for_prior = elementwise_loss.detach().cpu().numpy()\n",
    "        new_priorities = loss_for_prior + self.prior_eps\n",
    "        self.memory.update_priorities(indices, new_priorities)\n",
    "\n",
    "        # NoisyNet: reset noise\n",
    "        self.dqn.reset_noise()\n",
    "        self.dqn_target.reset_noise()\n",
    "\n",
    "        return loss.item()\n",
    "        \n",
    "    def train(self, num_frames, plotting_interval = 1000):\n",
    "        \"\"\"\n",
    "        Train the agent.\n",
    "        \"\"\"\n",
    "        self.is_test = False\n",
    "        \n",
    "        state, _ = self.env.reset(seed = self.seed)\n",
    "        update_cnt = 0\n",
    "        losses = []\n",
    "        scores = []\n",
    "        score = 0\n",
    "\n",
    "        for frame_idx in range(1, num_frames + 1):\n",
    "            # At the halfway point, reduce learning rate by a tenth\n",
    "            if frame_idx == int(num_frames // 2):\n",
    "                adjust_learning_rate(self.optimizer, 0.1)\n",
    "\n",
    "            action = self.select_action(state)\n",
    "            next_state, reward, done = self.step(action)\n",
    "\n",
    "            state = next_state\n",
    "            score += reward\n",
    "\n",
    "            # PER: increase beta\n",
    "            fraction = min(frame_idx / num_frames, 1.0)\n",
    "            self.beta = self.beta + fraction * (1.0 - self.beta)\n",
    "\n",
    "            # If episode ends\n",
    "            if done:\n",
    "                state, _ = self.env.reset(seed = self.seed)\n",
    "                scores.append(score)\n",
    "                score = 0\n",
    "\n",
    "            # If training is ready\n",
    "            if len(self.memory) >= self.batch_size:\n",
    "                loss = self.update_model()\n",
    "                losses.append(loss)\n",
    "                update_cnt += 1\n",
    "\n",
    "                # If hard update is needed\n",
    "                if update_cnt % self.target_update == 0:\n",
    "                    self._target_hard_update()\n",
    "\n",
    "            # Plot and save results, and save models\n",
    "            if frame_idx % plotting_interval == 0:\n",
    "                self._plot(scores, losses)\n",
    "                self._save(scores, losses)\n",
    "\n",
    "                print(f\"Frame: {frame_idx}, Mean of last 10 rewards: {np.mean(scores[-10:])}\")\n",
    "\n",
    "                # Create checkpoint folder\n",
    "                if not os.path.exists(\"checkpoints\"):\n",
    "                    os.makedirs(\"checkpoints\")\n",
    "\n",
    "                # Save the model checkpoint\n",
    "                checkpoint_name = f\"checkpoint_noisy_dqn_latest.pth.tar\"\n",
    "                checkpoint_path = os.path.join(\"checkpoints\", checkpoint_name)\n",
    "                torch.save({\"current_model\": self.dqn.state_dict(), \"target_model\": self.dqn_target.state_dict(), \"optimizer\": self.optimizer.state_dict(), \"losses\": losses, \"rewards\": scores, \"frame\": frame_idx}, checkpoint_path)\n",
    "\n",
    "        print(\"Training successfully completed.\")\n",
    "\n",
    "        self.env.close()\n",
    "\n",
    "    def test(self, video_folder = \"noisy-dqn_agent_video\"):\n",
    "        \"\"\"\n",
    "        Test the agent.\n",
    "        \"\"\"\n",
    "        self.is_test = True\n",
    "        \n",
    "        # Create checkpoint folder\n",
    "        if not os.path.exists(video_folder):\n",
    "            os.makedirs(video_folder)\n",
    "        \n",
    "        # For recording a video of agent\n",
    "        naive_env = self.env\n",
    "        self.env = RecordVideo(self.env, video_folder = video_folder)\n",
    "        \n",
    "        state, _ = self.env.reset(seed = self.seed)\n",
    "        done = False\n",
    "        score = 0\n",
    "        \n",
    "        while not done:\n",
    "            action = self.select_action(state)\n",
    "            next_state, reward, done = self.step(action)\n",
    "\n",
    "            state = next_state\n",
    "            score += reward\n",
    "        \n",
    "        print(\"Score: \", score)\n",
    "        self.env.close()\n",
    "        \n",
    "        # Reset\n",
    "        self.env = naive_env\n",
    "\n",
    "    def _compute_dqn_loss(self, samples):\n",
    "        \"\"\"\n",
    "        Return DQN loss.\n",
    "        \"\"\"\n",
    "        state = torch.tensor(samples[\"obs\"], dtype = torch.float, device = self.device).to(self.device)\n",
    "        next_state = torch.tensor(samples[\"next_obs\"], dtype = torch.float, device = self.device).to(self.device)\n",
    "        action = torch.tensor(samples[\"acts\"].reshape(-1, 1), dtype = torch.long, device = self.device).to(self.device)\n",
    "        reward = torch.tensor(samples[\"rews\"].reshape(-1, 1), dtype = torch.float, device = self.device).to(self.device)\n",
    "        done = torch.tensor(samples[\"done\"].reshape(-1, 1), dtype = torch.float, device = self.device).to(self.device)\n",
    "\n",
    "        curr_q_value = self.dqn(state).gather(1, action)\n",
    "        next_q_value = self.dqn_target(next_state).max(dim = 1, keepdim = True)[0].detach()\n",
    "        mask = 1 - done\n",
    "        target = (reward + self.gamma * next_q_value * mask).to(self.device)\n",
    "\n",
    "        # Calculate DQN loss\n",
    "        loss = F.smooth_l1_loss(curr_q_value, target, reduction = \"none\")\n",
    "\n",
    "        return loss\n",
    "\n",
    "    def _target_hard_update(self):\n",
    "        \"\"\"\n",
    "        Hard update: target <- local.\n",
    "        \"\"\"\n",
    "        self.dqn_target.load_state_dict(self.dqn.state_dict())\n",
    "\n",
    "    def _save(self, rewards, losses):\n",
    "        \"\"\"\n",
    "        Save training results to a pickle file.\n",
    "        \"\"\"\n",
    "        # Save results to a file\n",
    "        with open(\"noisy-dqn-results.pkl\", \"wb\") as f:\n",
    "            pickle.dump(rewards, f)\n",
    "            pickle.dump(losses, f)\n",
    "\n",
    "    def _plot(self, rewards, losses, moving_average_window = 100):\n",
    "        \"\"\"\n",
    "        Plot training curves.\n",
    "        \"\"\"\n",
    "        plt.figure(figsize = (40, 6))\n",
    "        clear_output(True)\n",
    "        # Combined plot of rewards, moving average, and loss\n",
    "        plt.subplot(131)\n",
    "        plt.title(\"Noisy-DQN Rewards Per Episode\")\n",
    "        plt.plot(rewards, label = \"Reward\")\n",
    "        if len(rewards) >= moving_average_window:\n",
    "            plt.plot(moving_average(rewards, moving_average_window), label = \"Moving Average\", color = \"red\")\n",
    "        plt.xlabel(\"Episode\")\n",
    "        plt.ylabel(\"Reward\")\n",
    "        plt.legend()\n",
    "        \n",
    "        plt.subplot(132)\n",
    "        plt.title(\"Noisy-DQN Loss Per Frame\")\n",
    "        plt.plot(losses, label = \"DQN Loss\")\n",
    "        plt.xlabel(\"Frame\")\n",
    "        plt.ylabel(\"Loss\")\n",
    "        \n",
    "        plt.savefig(\"noisy_dqn_plot.pdf\")\n",
    "        plt.show()\n",
    "\n",
    "    def _load_checkpoint(self, checkpoint_path, include_optimiser = True):\n",
    "        \"\"\"\n",
    "        Load the models from a checkpoint.\n",
    "        \"\"\"\n",
    "        model = torch.load(checkpoint_path, map_location = self.device)\n",
    "        self.dqn.load_state_dict(model[\"current_model\"])\n",
    "        self.dqn_target.load_state_dict(model[\"target_model\"])\n",
    "        \n",
    "        if include_optimiser == True:\n",
    "            self.optimizer.load_state_dict(model[\"optimizer\"])"
   ]
  },
  {
   "cell_type": "markdown",
   "id": "92e2d99e",
   "metadata": {
    "papermill": {
     "duration": 0.011629,
     "end_time": "2024-04-21T01:13:01.143560",
     "exception": false,
     "start_time": "2024-04-21T01:13:01.131931",
     "status": "completed"
    },
    "tags": []
   },
   "source": [
    "### Creating Noisy-DQN Agent Object\n",
    "\n",
    "We create an object for the agent to later refer to. This allows us to train and test the agent as desired."
   ]
  },
  {
   "cell_type": "code",
   "execution_count": 14,
   "id": "2dda50e0",
   "metadata": {
    "execution": {
     "iopub.execute_input": "2024-04-21T01:13:01.168186Z",
     "iopub.status.busy": "2024-04-21T01:13:01.167928Z",
     "iopub.status.idle": "2024-04-21T01:13:04.178698Z",
     "shell.execute_reply": "2024-04-21T01:13:04.177771Z"
    },
    "papermill": {
     "duration": 3.025633,
     "end_time": "2024-04-21T01:13:04.181008",
     "exception": false,
     "start_time": "2024-04-21T01:13:01.155375",
     "status": "completed"
    },
    "tags": []
   },
   "outputs": [
    {
     "name": "stdout",
     "output_type": "stream",
     "text": [
      "cuda\n"
     ]
    }
   ],
   "source": [
    "agent = NoisyAgent(env, memory_size, batch_size, target_update, seed, gamma, alpha, beta, prior_eps, noisy_std, learning_rate, optimizer)"
   ]
  },
  {
   "cell_type": "markdown",
   "id": "83cdeb6a",
   "metadata": {
    "papermill": {
     "duration": 0.011586,
     "end_time": "2024-04-21T01:13:04.206275",
     "exception": false,
     "start_time": "2024-04-21T01:13:04.194689",
     "status": "completed"
    },
    "tags": []
   },
   "source": [
    "### Train Agent\n",
    "\n",
    "We train the agent using our previously defined hyperparameters and obtain live plots of the training performance, which display the reward per episode, and the loss per frame."
   ]
  },
  {
   "cell_type": "code",
   "execution_count": 15,
   "id": "b5089f21",
   "metadata": {
    "execution": {
     "iopub.execute_input": "2024-04-21T01:13:04.231307Z",
     "iopub.status.busy": "2024-04-21T01:13:04.230873Z",
     "iopub.status.idle": "2024-04-21T05:29:38.648932Z",
     "shell.execute_reply": "2024-04-21T05:29:38.647817Z"
    },
    "papermill": {
     "duration": 15394.432904,
     "end_time": "2024-04-21T05:29:38.650991",
     "exception": false,
     "start_time": "2024-04-21T01:13:04.218087",
     "status": "completed"
    },
    "tags": []
   },
   "outputs": [
    {
     "data": {
      "image/png": "[encoded data removed]",
      "text/plain": [
       "<Figure size 4000x600 with 2 Axes>"
      ]
     },
     "metadata": {},
     "output_type": "display_data"
    },
    {
     "name": "stdout",
     "output_type": "stream",
     "text": [
      "Frame: 1000000, Mean of last 10 rewards: 16.5\n",
      "Training successfully completed.\n",
      "CPU times: user 3h 52min 9s, sys: 3min 42s, total: 3h 55min 52s\n",
      "Wall time: 4h 16min 34s\n"
     ]
    }
   ],
   "source": [
    "%%time\n",
    "\n",
    "#agent._load_checkpoint(\"checkpoints/checkpoint_noisy_dqn_latest.pth.tar\", include_optimiser = True)\n",
    "agent.train(num_frames)"
   ]
  },
  {
   "cell_type": "markdown",
   "id": "a3d95758",
   "metadata": {
    "papermill": {
     "duration": 0.013286,
     "end_time": "2024-04-21T05:29:38.678911",
     "exception": false,
     "start_time": "2024-04-21T05:29:38.665625",
     "status": "completed"
    },
    "tags": []
   },
   "source": [
    "### Test Agent\n",
    "\n",
    "We test the agent and receive a video of the agent playing on the ViZDoom environment. As mentioned at the beginning of the notebook, MoviePy causes an error as it needs to be installed before running the notebook (or the notebook kernel needs to be restarted after installing MoviePy. We obtain this error here as Kaggle cannot handle this, though it should be easy to avoid this on a home computer."
   ]
  },
  {
   "cell_type": "code",
   "execution_count": 16,
   "id": "41f111dc",
   "metadata": {
    "execution": {
     "iopub.execute_input": "2024-04-21T05:29:38.707326Z",
     "iopub.status.busy": "2024-04-21T05:29:38.706834Z",
     "iopub.status.idle": "2024-04-21T05:29:40.760969Z",
     "shell.execute_reply": "2024-04-21T05:29:40.760075Z"
    },
    "papermill": {
     "duration": 2.070765,
     "end_time": "2024-04-21T05:29:40.763064",
     "exception": false,
     "start_time": "2024-04-21T05:29:38.692299",
     "status": "completed"
    },
    "tags": []
   },
   "outputs": [
    {
     "name": "stderr",
     "output_type": "stream",
     "text": [
      "/opt/conda/lib/python3.10/site-packages/gymnasium/wrappers/record_video.py:94: UserWarning: \u001b[33mWARN: Overwriting existing videos at /kaggle/working/noisy_agent_video folder (try specifying a different `video_folder` for the `RecordVideo` wrapper if this is not desired)\u001b[0m\n",
      "  logger.warn(\n",
      "/opt/conda/lib/python3.10/site-packages/gymnasium/core.py:297: UserWarning: \u001b[33mWARN: env.is_vector_env to get variables from other wrappers is deprecated and will be removed in v1.0, to get this variable you can do `env.unwrapped.is_vector_env` for environment variables or `env.get_attr('is_vector_env')` that will search the reminding wrappers.\u001b[0m\n",
      "  logger.warn(\n"
     ]
    },
    {
     "name": "stdout",
     "output_type": "stream",
     "text": [
      "Moviepy - Building video /kaggle/working/noisy_agent_video/rl-video-episode-0.mp4.\n",
      "Moviepy - Writing video /kaggle/working/noisy_agent_video/rl-video-episode-0.mp4\n",
      "\n"
     ]
    },
    {
     "ename": "TypeError",
     "evalue": "must be real number, not NoneType",
     "output_type": "error",
     "traceback": [
      "\u001b[0;31m---------------------------------------------------------------------------\u001b[0m",
      "\u001b[0;31mTypeError\u001b[0m                                 Traceback (most recent call last)",
      "File \u001b[0;32m<timed eval>:1\u001b[0m\n",
      "Cell \u001b[0;32mIn[13], line 203\u001b[0m, in \u001b[0;36mNoisyAgent.test\u001b[0;34m(self, video_folder)\u001b[0m\n\u001b[1;32m    201\u001b[0m \u001b[38;5;28;01mwhile\u001b[39;00m \u001b[38;5;129;01mnot\u001b[39;00m done:\n\u001b[1;32m    202\u001b[0m     action \u001b[38;5;241m=\u001b[39m \u001b[38;5;28mself\u001b[39m\u001b[38;5;241m.\u001b[39mselect_action(state)\n\u001b[0;32m--> 203\u001b[0m     next_state, reward, done \u001b[38;5;241m=\u001b[39m \u001b[38;5;28;43mself\u001b[39;49m\u001b[38;5;241;43m.\u001b[39;49m\u001b[43mstep\u001b[49m\u001b[43m(\u001b[49m\u001b[43maction\u001b[49m\u001b[43m)\u001b[49m\n\u001b[1;32m    205\u001b[0m     state \u001b[38;5;241m=\u001b[39m next_state\n\u001b[1;32m    206\u001b[0m     score \u001b[38;5;241m+\u001b[39m\u001b[38;5;241m=\u001b[39m reward\n",
      "Cell \u001b[0;32mIn[13], line 89\u001b[0m, in \u001b[0;36mNoisyAgent.step\u001b[0;34m(self, action)\u001b[0m\n\u001b[1;32m     87\u001b[0m \u001b[38;5;28;01mdef\u001b[39;00m \u001b[38;5;21mstep\u001b[39m(\u001b[38;5;28mself\u001b[39m, action):\n\u001b[1;32m     88\u001b[0m \u001b[38;5;250m    \u001b[39m\u001b[38;5;124;03m\"\"\"Take an action and return the response of the env.\"\"\"\u001b[39;00m\n\u001b[0;32m---> 89\u001b[0m     next_state, reward, terminated, truncated, _ \u001b[38;5;241m=\u001b[39m \u001b[38;5;28;43mself\u001b[39;49m\u001b[38;5;241;43m.\u001b[39;49m\u001b[43menv\u001b[49m\u001b[38;5;241;43m.\u001b[39;49m\u001b[43mstep\u001b[49m\u001b[43m(\u001b[49m\u001b[43maction\u001b[49m\u001b[43m)\u001b[49m\n\u001b[1;32m     90\u001b[0m     done \u001b[38;5;241m=\u001b[39m terminated \u001b[38;5;129;01mor\u001b[39;00m truncated\n\u001b[1;32m     92\u001b[0m     \u001b[38;5;28;01mif\u001b[39;00m \u001b[38;5;129;01mnot\u001b[39;00m \u001b[38;5;28mself\u001b[39m\u001b[38;5;241m.\u001b[39mis_test:\n",
      "File \u001b[0;32m/opt/conda/lib/python3.10/site-packages/gymnasium/wrappers/record_video.py:191\u001b[0m, in \u001b[0;36mRecordVideo.step\u001b[0;34m(self, action)\u001b[0m\n\u001b[1;32m    189\u001b[0m \u001b[38;5;28;01mif\u001b[39;00m \u001b[38;5;129;01mnot\u001b[39;00m \u001b[38;5;28mself\u001b[39m\u001b[38;5;241m.\u001b[39mis_vector_env:\n\u001b[1;32m    190\u001b[0m     \u001b[38;5;28;01mif\u001b[39;00m terminateds \u001b[38;5;129;01mor\u001b[39;00m truncateds:\n\u001b[0;32m--> 191\u001b[0m         \u001b[38;5;28;43mself\u001b[39;49m\u001b[38;5;241;43m.\u001b[39;49m\u001b[43mclose_video_recorder\u001b[49m\u001b[43m(\u001b[49m\u001b[43m)\u001b[49m\n\u001b[1;32m    192\u001b[0m \u001b[38;5;28;01melif\u001b[39;00m terminateds[\u001b[38;5;241m0\u001b[39m] \u001b[38;5;129;01mor\u001b[39;00m truncateds[\u001b[38;5;241m0\u001b[39m]:\n\u001b[1;32m    193\u001b[0m     \u001b[38;5;28mself\u001b[39m\u001b[38;5;241m.\u001b[39mclose_video_recorder()\n",
      "File \u001b[0;32m/opt/conda/lib/python3.10/site-packages/gymnasium/wrappers/record_video.py:204\u001b[0m, in \u001b[0;36mRecordVideo.close_video_recorder\u001b[0;34m(self)\u001b[0m\n\u001b[1;32m    202\u001b[0m \u001b[38;5;28;01mif\u001b[39;00m \u001b[38;5;28mself\u001b[39m\u001b[38;5;241m.\u001b[39mrecording:\n\u001b[1;32m    203\u001b[0m     \u001b[38;5;28;01massert\u001b[39;00m \u001b[38;5;28mself\u001b[39m\u001b[38;5;241m.\u001b[39mvideo_recorder \u001b[38;5;129;01mis\u001b[39;00m \u001b[38;5;129;01mnot\u001b[39;00m \u001b[38;5;28;01mNone\u001b[39;00m\n\u001b[0;32m--> 204\u001b[0m     \u001b[38;5;28;43mself\u001b[39;49m\u001b[38;5;241;43m.\u001b[39;49m\u001b[43mvideo_recorder\u001b[49m\u001b[38;5;241;43m.\u001b[39;49m\u001b[43mclose\u001b[49m\u001b[43m(\u001b[49m\u001b[43m)\u001b[49m\n\u001b[1;32m    205\u001b[0m \u001b[38;5;28mself\u001b[39m\u001b[38;5;241m.\u001b[39mrecording \u001b[38;5;241m=\u001b[39m \u001b[38;5;28;01mFalse\u001b[39;00m\n\u001b[1;32m    206\u001b[0m \u001b[38;5;28mself\u001b[39m\u001b[38;5;241m.\u001b[39mrecorded_frames \u001b[38;5;241m=\u001b[39m \u001b[38;5;241m1\u001b[39m\n",
      "File \u001b[0;32m/opt/conda/lib/python3.10/site-packages/gymnasium/wrappers/monitoring/video_recorder.py:157\u001b[0m, in \u001b[0;36mVideoRecorder.close\u001b[0;34m(self)\u001b[0m\n\u001b[1;32m    155\u001b[0m     clip \u001b[38;5;241m=\u001b[39m ImageSequenceClip(\u001b[38;5;28mself\u001b[39m\u001b[38;5;241m.\u001b[39mrecorded_frames, fps\u001b[38;5;241m=\u001b[39m\u001b[38;5;28mself\u001b[39m\u001b[38;5;241m.\u001b[39mframes_per_sec)\n\u001b[1;32m    156\u001b[0m     moviepy_logger \u001b[38;5;241m=\u001b[39m \u001b[38;5;28;01mNone\u001b[39;00m \u001b[38;5;28;01mif\u001b[39;00m \u001b[38;5;28mself\u001b[39m\u001b[38;5;241m.\u001b[39mdisable_logger \u001b[38;5;28;01melse\u001b[39;00m \u001b[38;5;124m\"\u001b[39m\u001b[38;5;124mbar\u001b[39m\u001b[38;5;124m\"\u001b[39m\n\u001b[0;32m--> 157\u001b[0m     \u001b[43mclip\u001b[49m\u001b[38;5;241;43m.\u001b[39;49m\u001b[43mwrite_videofile\u001b[49m\u001b[43m(\u001b[49m\u001b[38;5;28;43mself\u001b[39;49m\u001b[38;5;241;43m.\u001b[39;49m\u001b[43mpath\u001b[49m\u001b[43m,\u001b[49m\u001b[43m \u001b[49m\u001b[43mlogger\u001b[49m\u001b[38;5;241;43m=\u001b[39;49m\u001b[43mmoviepy_logger\u001b[49m\u001b[43m)\u001b[49m\n\u001b[1;32m    158\u001b[0m \u001b[38;5;28;01melse\u001b[39;00m:\n\u001b[1;32m    159\u001b[0m     \u001b[38;5;66;03m# No frames captured. Set metadata.\u001b[39;00m\n\u001b[1;32m    160\u001b[0m     \u001b[38;5;28;01mif\u001b[39;00m \u001b[38;5;28mself\u001b[39m\u001b[38;5;241m.\u001b[39mmetadata \u001b[38;5;129;01mis\u001b[39;00m \u001b[38;5;28;01mNone\u001b[39;00m:\n",
      "File \u001b[0;32m/opt/conda/lib/python3.10/site-packages/decorator.py:232\u001b[0m, in \u001b[0;36mfun\u001b[0;34m(*args, **kw)\u001b[0m\n\u001b[1;32m    230\u001b[0m evaldict \u001b[38;5;241m=\u001b[39m \u001b[38;5;28mdict\u001b[39m(_call_\u001b[38;5;241m=\u001b[39mcaller, _func_\u001b[38;5;241m=\u001b[39mfunc)\n\u001b[1;32m    231\u001b[0m es \u001b[38;5;241m=\u001b[39m \u001b[38;5;124m'\u001b[39m\u001b[38;5;124m'\u001b[39m\n\u001b[0;32m--> 232\u001b[0m \u001b[38;5;28;01mfor\u001b[39;00m i, extra \u001b[38;5;129;01min\u001b[39;00m \u001b[38;5;28menumerate\u001b[39m(extras):\n\u001b[1;32m    233\u001b[0m     ex \u001b[38;5;241m=\u001b[39m \u001b[38;5;124m'\u001b[39m\u001b[38;5;124m_e\u001b[39m\u001b[38;5;132;01m%d\u001b[39;00m\u001b[38;5;124m_\u001b[39m\u001b[38;5;124m'\u001b[39m \u001b[38;5;241m%\u001b[39m i\n\u001b[1;32m    234\u001b[0m     evaldict[ex] \u001b[38;5;241m=\u001b[39m extra\n",
      "File \u001b[0;32m/opt/conda/lib/python3.10/site-packages/moviepy/decorators.py:54\u001b[0m, in \u001b[0;36mrequires_duration\u001b[0;34m(f, clip, *a, **k)\u001b[0m\n\u001b[1;32m     52\u001b[0m     \u001b[38;5;28;01mraise\u001b[39;00m \u001b[38;5;167;01mValueError\u001b[39;00m(\u001b[38;5;124m\"\u001b[39m\u001b[38;5;124mAttribute \u001b[39m\u001b[38;5;124m'\u001b[39m\u001b[38;5;124mduration\u001b[39m\u001b[38;5;124m'\u001b[39m\u001b[38;5;124m not set\u001b[39m\u001b[38;5;124m\"\u001b[39m)\n\u001b[1;32m     53\u001b[0m \u001b[38;5;28;01melse\u001b[39;00m:\n\u001b[0;32m---> 54\u001b[0m     \u001b[38;5;28;01mreturn\u001b[39;00m \u001b[43mf\u001b[49m\u001b[43m(\u001b[49m\u001b[43mclip\u001b[49m\u001b[43m,\u001b[49m\u001b[43m \u001b[49m\u001b[38;5;241;43m*\u001b[39;49m\u001b[43ma\u001b[49m\u001b[43m,\u001b[49m\u001b[43m \u001b[49m\u001b[38;5;241;43m*\u001b[39;49m\u001b[38;5;241;43m*\u001b[39;49m\u001b[43mk\u001b[49m\u001b[43m)\u001b[49m\n",
      "File \u001b[0;32m/opt/conda/lib/python3.10/site-packages/decorator.py:232\u001b[0m, in \u001b[0;36mfun\u001b[0;34m(*args, **kw)\u001b[0m\n\u001b[1;32m    230\u001b[0m evaldict \u001b[38;5;241m=\u001b[39m \u001b[38;5;28mdict\u001b[39m(_call_\u001b[38;5;241m=\u001b[39mcaller, _func_\u001b[38;5;241m=\u001b[39mfunc)\n\u001b[1;32m    231\u001b[0m es \u001b[38;5;241m=\u001b[39m \u001b[38;5;124m'\u001b[39m\u001b[38;5;124m'\u001b[39m\n\u001b[0;32m--> 232\u001b[0m \u001b[38;5;28;01mfor\u001b[39;00m i, extra \u001b[38;5;129;01min\u001b[39;00m \u001b[38;5;28menumerate\u001b[39m(extras):\n\u001b[1;32m    233\u001b[0m     ex \u001b[38;5;241m=\u001b[39m \u001b[38;5;124m'\u001b[39m\u001b[38;5;124m_e\u001b[39m\u001b[38;5;132;01m%d\u001b[39;00m\u001b[38;5;124m_\u001b[39m\u001b[38;5;124m'\u001b[39m \u001b[38;5;241m%\u001b[39m i\n\u001b[1;32m    234\u001b[0m     evaldict[ex] \u001b[38;5;241m=\u001b[39m extra\n",
      "File \u001b[0;32m/opt/conda/lib/python3.10/site-packages/moviepy/decorators.py:135\u001b[0m, in \u001b[0;36muse_clip_fps_by_default\u001b[0;34m(f, clip, *a, **k)\u001b[0m\n\u001b[1;32m    130\u001b[0m new_a \u001b[38;5;241m=\u001b[39m [fun(arg) \u001b[38;5;28;01mif\u001b[39;00m (name\u001b[38;5;241m==\u001b[39m\u001b[38;5;124m'\u001b[39m\u001b[38;5;124mfps\u001b[39m\u001b[38;5;124m'\u001b[39m) \u001b[38;5;28;01melse\u001b[39;00m arg\n\u001b[1;32m    131\u001b[0m          \u001b[38;5;28;01mfor\u001b[39;00m (arg, name) \u001b[38;5;129;01min\u001b[39;00m \u001b[38;5;28mzip\u001b[39m(a, names)]\n\u001b[1;32m    132\u001b[0m new_kw \u001b[38;5;241m=\u001b[39m {k: fun(v) \u001b[38;5;28;01mif\u001b[39;00m k\u001b[38;5;241m==\u001b[39m\u001b[38;5;124m'\u001b[39m\u001b[38;5;124mfps\u001b[39m\u001b[38;5;124m'\u001b[39m \u001b[38;5;28;01melse\u001b[39;00m v\n\u001b[1;32m    133\u001b[0m          \u001b[38;5;28;01mfor\u001b[39;00m (k,v) \u001b[38;5;129;01min\u001b[39;00m k\u001b[38;5;241m.\u001b[39mitems()}\n\u001b[0;32m--> 135\u001b[0m \u001b[38;5;28;01mreturn\u001b[39;00m \u001b[43mf\u001b[49m\u001b[43m(\u001b[49m\u001b[43mclip\u001b[49m\u001b[43m,\u001b[49m\u001b[43m \u001b[49m\u001b[38;5;241;43m*\u001b[39;49m\u001b[43mnew_a\u001b[49m\u001b[43m,\u001b[49m\u001b[43m \u001b[49m\u001b[38;5;241;43m*\u001b[39;49m\u001b[38;5;241;43m*\u001b[39;49m\u001b[43mnew_kw\u001b[49m\u001b[43m)\u001b[49m\n",
      "File \u001b[0;32m/opt/conda/lib/python3.10/site-packages/decorator.py:232\u001b[0m, in \u001b[0;36mfun\u001b[0;34m(*args, **kw)\u001b[0m\n\u001b[1;32m    230\u001b[0m evaldict \u001b[38;5;241m=\u001b[39m \u001b[38;5;28mdict\u001b[39m(_call_\u001b[38;5;241m=\u001b[39mcaller, _func_\u001b[38;5;241m=\u001b[39mfunc)\n\u001b[1;32m    231\u001b[0m es \u001b[38;5;241m=\u001b[39m \u001b[38;5;124m'\u001b[39m\u001b[38;5;124m'\u001b[39m\n\u001b[0;32m--> 232\u001b[0m \u001b[38;5;28;01mfor\u001b[39;00m i, extra \u001b[38;5;129;01min\u001b[39;00m \u001b[38;5;28menumerate\u001b[39m(extras):\n\u001b[1;32m    233\u001b[0m     ex \u001b[38;5;241m=\u001b[39m \u001b[38;5;124m'\u001b[39m\u001b[38;5;124m_e\u001b[39m\u001b[38;5;132;01m%d\u001b[39;00m\u001b[38;5;124m_\u001b[39m\u001b[38;5;124m'\u001b[39m \u001b[38;5;241m%\u001b[39m i\n\u001b[1;32m    234\u001b[0m     evaldict[ex] \u001b[38;5;241m=\u001b[39m extra\n",
      "File \u001b[0;32m/opt/conda/lib/python3.10/site-packages/moviepy/decorators.py:22\u001b[0m, in \u001b[0;36mconvert_masks_to_RGB\u001b[0;34m(f, clip, *a, **k)\u001b[0m\n\u001b[1;32m     20\u001b[0m \u001b[38;5;28;01mif\u001b[39;00m clip\u001b[38;5;241m.\u001b[39mismask:\n\u001b[1;32m     21\u001b[0m     clip \u001b[38;5;241m=\u001b[39m clip\u001b[38;5;241m.\u001b[39mto_RGB()\n\u001b[0;32m---> 22\u001b[0m \u001b[38;5;28;01mreturn\u001b[39;00m \u001b[43mf\u001b[49m\u001b[43m(\u001b[49m\u001b[43mclip\u001b[49m\u001b[43m,\u001b[49m\u001b[43m \u001b[49m\u001b[38;5;241;43m*\u001b[39;49m\u001b[43ma\u001b[49m\u001b[43m,\u001b[49m\u001b[43m \u001b[49m\u001b[38;5;241;43m*\u001b[39;49m\u001b[38;5;241;43m*\u001b[39;49m\u001b[43mk\u001b[49m\u001b[43m)\u001b[49m\n",
      "File \u001b[0;32m/opt/conda/lib/python3.10/site-packages/moviepy/video/VideoClip.py:300\u001b[0m, in \u001b[0;36mVideoClip.write_videofile\u001b[0;34m(self, filename, fps, codec, bitrate, audio, audio_fps, preset, audio_nbytes, audio_codec, audio_bitrate, audio_bufsize, temp_audiofile, rewrite_audio, remove_temp, write_logfile, verbose, threads, ffmpeg_params, logger)\u001b[0m\n\u001b[1;32m    292\u001b[0m \u001b[38;5;28;01mif\u001b[39;00m make_audio:\n\u001b[1;32m    293\u001b[0m     \u001b[38;5;28mself\u001b[39m\u001b[38;5;241m.\u001b[39maudio\u001b[38;5;241m.\u001b[39mwrite_audiofile(audiofile, audio_fps,\n\u001b[1;32m    294\u001b[0m                                audio_nbytes, audio_bufsize,\n\u001b[1;32m    295\u001b[0m                                audio_codec, bitrate\u001b[38;5;241m=\u001b[39maudio_bitrate,\n\u001b[1;32m    296\u001b[0m                                write_logfile\u001b[38;5;241m=\u001b[39mwrite_logfile,\n\u001b[1;32m    297\u001b[0m                                verbose\u001b[38;5;241m=\u001b[39mverbose,\n\u001b[1;32m    298\u001b[0m                                logger\u001b[38;5;241m=\u001b[39mlogger)\n\u001b[0;32m--> 300\u001b[0m \u001b[43mffmpeg_write_video\u001b[49m\u001b[43m(\u001b[49m\u001b[38;5;28;43mself\u001b[39;49m\u001b[43m,\u001b[49m\u001b[43m \u001b[49m\u001b[43mfilename\u001b[49m\u001b[43m,\u001b[49m\u001b[43m \u001b[49m\u001b[43mfps\u001b[49m\u001b[43m,\u001b[49m\u001b[43m \u001b[49m\u001b[43mcodec\u001b[49m\u001b[43m,\u001b[49m\n\u001b[1;32m    301\u001b[0m \u001b[43m                   \u001b[49m\u001b[43mbitrate\u001b[49m\u001b[38;5;241;43m=\u001b[39;49m\u001b[43mbitrate\u001b[49m\u001b[43m,\u001b[49m\n\u001b[1;32m    302\u001b[0m \u001b[43m                   \u001b[49m\u001b[43mpreset\u001b[49m\u001b[38;5;241;43m=\u001b[39;49m\u001b[43mpreset\u001b[49m\u001b[43m,\u001b[49m\n\u001b[1;32m    303\u001b[0m \u001b[43m                   \u001b[49m\u001b[43mwrite_logfile\u001b[49m\u001b[38;5;241;43m=\u001b[39;49m\u001b[43mwrite_logfile\u001b[49m\u001b[43m,\u001b[49m\n\u001b[1;32m    304\u001b[0m \u001b[43m                   \u001b[49m\u001b[43maudiofile\u001b[49m\u001b[38;5;241;43m=\u001b[39;49m\u001b[43maudiofile\u001b[49m\u001b[43m,\u001b[49m\n\u001b[1;32m    305\u001b[0m \u001b[43m                   \u001b[49m\u001b[43mverbose\u001b[49m\u001b[38;5;241;43m=\u001b[39;49m\u001b[43mverbose\u001b[49m\u001b[43m,\u001b[49m\u001b[43m \u001b[49m\u001b[43mthreads\u001b[49m\u001b[38;5;241;43m=\u001b[39;49m\u001b[43mthreads\u001b[49m\u001b[43m,\u001b[49m\n\u001b[1;32m    306\u001b[0m \u001b[43m                   \u001b[49m\u001b[43mffmpeg_params\u001b[49m\u001b[38;5;241;43m=\u001b[39;49m\u001b[43mffmpeg_params\u001b[49m\u001b[43m,\u001b[49m\n\u001b[1;32m    307\u001b[0m \u001b[43m                   \u001b[49m\u001b[43mlogger\u001b[49m\u001b[38;5;241;43m=\u001b[39;49m\u001b[43mlogger\u001b[49m\u001b[43m)\u001b[49m\n\u001b[1;32m    309\u001b[0m \u001b[38;5;28;01mif\u001b[39;00m remove_temp \u001b[38;5;129;01mand\u001b[39;00m make_audio:\n\u001b[1;32m    310\u001b[0m     \u001b[38;5;28;01mif\u001b[39;00m os\u001b[38;5;241m.\u001b[39mpath\u001b[38;5;241m.\u001b[39mexists(audiofile):\n",
      "File \u001b[0;32m/opt/conda/lib/python3.10/site-packages/moviepy/video/io/ffmpeg_writer.py:213\u001b[0m, in \u001b[0;36mffmpeg_write_video\u001b[0;34m(clip, filename, fps, codec, bitrate, preset, withmask, write_logfile, audiofile, verbose, threads, ffmpeg_params, logger)\u001b[0m\n\u001b[1;32m    211\u001b[0m     logfile \u001b[38;5;241m=\u001b[39m \u001b[38;5;28;01mNone\u001b[39;00m\n\u001b[1;32m    212\u001b[0m logger(message\u001b[38;5;241m=\u001b[39m\u001b[38;5;124m'\u001b[39m\u001b[38;5;124mMoviepy - Writing video \u001b[39m\u001b[38;5;132;01m%s\u001b[39;00m\u001b[38;5;130;01m\\n\u001b[39;00m\u001b[38;5;124m'\u001b[39m \u001b[38;5;241m%\u001b[39m filename)\n\u001b[0;32m--> 213\u001b[0m \u001b[38;5;28;01mwith\u001b[39;00m \u001b[43mFFMPEG_VideoWriter\u001b[49m\u001b[43m(\u001b[49m\u001b[43mfilename\u001b[49m\u001b[43m,\u001b[49m\u001b[43m \u001b[49m\u001b[43mclip\u001b[49m\u001b[38;5;241;43m.\u001b[39;49m\u001b[43msize\u001b[49m\u001b[43m,\u001b[49m\u001b[43m \u001b[49m\u001b[43mfps\u001b[49m\u001b[43m,\u001b[49m\u001b[43m \u001b[49m\u001b[43mcodec\u001b[49m\u001b[43m \u001b[49m\u001b[38;5;241;43m=\u001b[39;49m\u001b[43m \u001b[49m\u001b[43mcodec\u001b[49m\u001b[43m,\u001b[49m\n\u001b[1;32m    214\u001b[0m \u001b[43m                            \u001b[49m\u001b[43mpreset\u001b[49m\u001b[38;5;241;43m=\u001b[39;49m\u001b[43mpreset\u001b[49m\u001b[43m,\u001b[49m\u001b[43m \u001b[49m\u001b[43mbitrate\u001b[49m\u001b[38;5;241;43m=\u001b[39;49m\u001b[43mbitrate\u001b[49m\u001b[43m,\u001b[49m\u001b[43m \u001b[49m\u001b[43mlogfile\u001b[49m\u001b[38;5;241;43m=\u001b[39;49m\u001b[43mlogfile\u001b[49m\u001b[43m,\u001b[49m\n\u001b[1;32m    215\u001b[0m \u001b[43m                            \u001b[49m\u001b[43maudiofile\u001b[49m\u001b[38;5;241;43m=\u001b[39;49m\u001b[43maudiofile\u001b[49m\u001b[43m,\u001b[49m\u001b[43m \u001b[49m\u001b[43mthreads\u001b[49m\u001b[38;5;241;43m=\u001b[39;49m\u001b[43mthreads\u001b[49m\u001b[43m,\u001b[49m\n\u001b[1;32m    216\u001b[0m \u001b[43m                            \u001b[49m\u001b[43mffmpeg_params\u001b[49m\u001b[38;5;241;43m=\u001b[39;49m\u001b[43mffmpeg_params\u001b[49m\u001b[43m)\u001b[49m \u001b[38;5;28;01mas\u001b[39;00m writer:\n\u001b[1;32m    218\u001b[0m     nframes \u001b[38;5;241m=\u001b[39m \u001b[38;5;28mint\u001b[39m(clip\u001b[38;5;241m.\u001b[39mduration\u001b[38;5;241m*\u001b[39mfps)\n\u001b[1;32m    220\u001b[0m     \u001b[38;5;28;01mfor\u001b[39;00m t,frame \u001b[38;5;129;01min\u001b[39;00m clip\u001b[38;5;241m.\u001b[39miter_frames(logger\u001b[38;5;241m=\u001b[39mlogger, with_times\u001b[38;5;241m=\u001b[39m\u001b[38;5;28;01mTrue\u001b[39;00m,\n\u001b[1;32m    221\u001b[0m                                     fps\u001b[38;5;241m=\u001b[39mfps, dtype\u001b[38;5;241m=\u001b[39m\u001b[38;5;124m\"\u001b[39m\u001b[38;5;124muint8\u001b[39m\u001b[38;5;124m\"\u001b[39m):\n",
      "File \u001b[0;32m/opt/conda/lib/python3.10/site-packages/moviepy/video/io/ffmpeg_writer.py:88\u001b[0m, in \u001b[0;36mFFMPEG_VideoWriter.__init__\u001b[0;34m(self, filename, size, fps, codec, audiofile, preset, bitrate, withmask, logfile, threads, ffmpeg_params)\u001b[0m\n\u001b[1;32m     77\u001b[0m \u001b[38;5;28mself\u001b[39m\u001b[38;5;241m.\u001b[39mext \u001b[38;5;241m=\u001b[39m \u001b[38;5;28mself\u001b[39m\u001b[38;5;241m.\u001b[39mfilename\u001b[38;5;241m.\u001b[39msplit(\u001b[38;5;124m\"\u001b[39m\u001b[38;5;124m.\u001b[39m\u001b[38;5;124m\"\u001b[39m)[\u001b[38;5;241m-\u001b[39m\u001b[38;5;241m1\u001b[39m]\n\u001b[1;32m     79\u001b[0m \u001b[38;5;66;03m# order is important\u001b[39;00m\n\u001b[1;32m     80\u001b[0m cmd \u001b[38;5;241m=\u001b[39m [\n\u001b[1;32m     81\u001b[0m     get_setting(\u001b[38;5;124m\"\u001b[39m\u001b[38;5;124mFFMPEG_BINARY\u001b[39m\u001b[38;5;124m\"\u001b[39m),\n\u001b[1;32m     82\u001b[0m     \u001b[38;5;124m'\u001b[39m\u001b[38;5;124m-y\u001b[39m\u001b[38;5;124m'\u001b[39m,\n\u001b[1;32m     83\u001b[0m     \u001b[38;5;124m'\u001b[39m\u001b[38;5;124m-loglevel\u001b[39m\u001b[38;5;124m'\u001b[39m, \u001b[38;5;124m'\u001b[39m\u001b[38;5;124merror\u001b[39m\u001b[38;5;124m'\u001b[39m \u001b[38;5;28;01mif\u001b[39;00m logfile \u001b[38;5;241m==\u001b[39m sp\u001b[38;5;241m.\u001b[39mPIPE \u001b[38;5;28;01melse\u001b[39;00m \u001b[38;5;124m'\u001b[39m\u001b[38;5;124minfo\u001b[39m\u001b[38;5;124m'\u001b[39m,\n\u001b[1;32m     84\u001b[0m     \u001b[38;5;124m'\u001b[39m\u001b[38;5;124m-f\u001b[39m\u001b[38;5;124m'\u001b[39m, \u001b[38;5;124m'\u001b[39m\u001b[38;5;124mrawvideo\u001b[39m\u001b[38;5;124m'\u001b[39m,\n\u001b[1;32m     85\u001b[0m     \u001b[38;5;124m'\u001b[39m\u001b[38;5;124m-vcodec\u001b[39m\u001b[38;5;124m'\u001b[39m, \u001b[38;5;124m'\u001b[39m\u001b[38;5;124mrawvideo\u001b[39m\u001b[38;5;124m'\u001b[39m,\n\u001b[1;32m     86\u001b[0m     \u001b[38;5;124m'\u001b[39m\u001b[38;5;124m-s\u001b[39m\u001b[38;5;124m'\u001b[39m, \u001b[38;5;124m'\u001b[39m\u001b[38;5;132;01m%d\u001b[39;00m\u001b[38;5;124mx\u001b[39m\u001b[38;5;132;01m%d\u001b[39;00m\u001b[38;5;124m'\u001b[39m \u001b[38;5;241m%\u001b[39m (size[\u001b[38;5;241m0\u001b[39m], size[\u001b[38;5;241m1\u001b[39m]),\n\u001b[1;32m     87\u001b[0m     \u001b[38;5;124m'\u001b[39m\u001b[38;5;124m-pix_fmt\u001b[39m\u001b[38;5;124m'\u001b[39m, \u001b[38;5;124m'\u001b[39m\u001b[38;5;124mrgba\u001b[39m\u001b[38;5;124m'\u001b[39m \u001b[38;5;28;01mif\u001b[39;00m withmask \u001b[38;5;28;01melse\u001b[39;00m \u001b[38;5;124m'\u001b[39m\u001b[38;5;124mrgb24\u001b[39m\u001b[38;5;124m'\u001b[39m,\n\u001b[0;32m---> 88\u001b[0m     \u001b[38;5;124m'\u001b[39m\u001b[38;5;124m-r\u001b[39m\u001b[38;5;124m'\u001b[39m, \u001b[38;5;124;43m'\u001b[39;49m\u001b[38;5;132;43;01m%.02f\u001b[39;49;00m\u001b[38;5;124;43m'\u001b[39;49m\u001b[43m \u001b[49m\u001b[38;5;241;43m%\u001b[39;49m\u001b[43m \u001b[49m\u001b[43mfps\u001b[49m,\n\u001b[1;32m     89\u001b[0m     \u001b[38;5;124m'\u001b[39m\u001b[38;5;124m-an\u001b[39m\u001b[38;5;124m'\u001b[39m, \u001b[38;5;124m'\u001b[39m\u001b[38;5;124m-i\u001b[39m\u001b[38;5;124m'\u001b[39m, \u001b[38;5;124m'\u001b[39m\u001b[38;5;124m-\u001b[39m\u001b[38;5;124m'\u001b[39m\n\u001b[1;32m     90\u001b[0m ]\n\u001b[1;32m     91\u001b[0m \u001b[38;5;28;01mif\u001b[39;00m audiofile \u001b[38;5;129;01mis\u001b[39;00m \u001b[38;5;129;01mnot\u001b[39;00m \u001b[38;5;28;01mNone\u001b[39;00m:\n\u001b[1;32m     92\u001b[0m     cmd\u001b[38;5;241m.\u001b[39mextend([\n\u001b[1;32m     93\u001b[0m         \u001b[38;5;124m'\u001b[39m\u001b[38;5;124m-i\u001b[39m\u001b[38;5;124m'\u001b[39m, audiofile,\n\u001b[1;32m     94\u001b[0m         \u001b[38;5;124m'\u001b[39m\u001b[38;5;124m-acodec\u001b[39m\u001b[38;5;124m'\u001b[39m, \u001b[38;5;124m'\u001b[39m\u001b[38;5;124mcopy\u001b[39m\u001b[38;5;124m'\u001b[39m\n\u001b[1;32m     95\u001b[0m     ])\n",
      "\u001b[0;31mTypeError\u001b[0m: must be real number, not NoneType"
     ]
    }
   ],
   "source": [
    "%%time\n",
    "\n",
    "agent.test(video_folder = \"noisy_agent_video\")"
   ]
  },
  {
   "cell_type": "code",
   "execution_count": null,
   "id": "f5687768",
   "metadata": {
    "papermill": {
     "duration": 0.013843,
     "end_time": "2024-04-21T05:29:40.791473",
     "exception": false,
     "start_time": "2024-04-21T05:29:40.777630",
     "status": "completed"
    },
    "tags": []
   },
   "outputs": [],
   "source": []
  }
 ],
 "metadata": {
  "kaggle": {
   "accelerator": "gpu",
   "dataSources": [],
   "isGpuEnabled": true,
   "isInternetEnabled": true,
   "language": "python",
   "sourceType": "notebook"
  },
  "kernelspec": {
   "display_name": "Python 3 (ipykernel)",
   "language": "python",
   "name": "python3"
  },
  "language_info": {
   "codemirror_mode": {
    "name": "ipython",
    "version": 3
   },
   "file_extension": ".py",
   "mimetype": "text/x-python",
   "name": "python",
   "nbconvert_exporter": "python",
   "pygments_lexer": "ipython3",
   "version": "3.11.7"
  },
  "papermill": {
   "default_parameters": {},
   "duration": 15444.873503,
   "end_time": "2024-04-21T05:29:47.584552",
   "environment_variables": {},
   "exception": null,
   "input_path": "__notebook__.ipynb",
   "output_path": "__notebook__.ipynb",
   "parameters": {},
   "start_time": "2024-04-21T01:12:22.711049",
   "version": "2.5.0"
  }
 },
 "nbformat": 4,
 "nbformat_minor": 5
}
